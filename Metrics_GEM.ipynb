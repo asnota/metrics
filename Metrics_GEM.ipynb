{
  "nbformat": 4,
  "nbformat_minor": 0,
  "metadata": {
    "colab": {
      "name": "Metrics GEM.ipynb",
      "provenance": [],
      "collapsed_sections": [
        "fm1JA3v0UnNw",
        "Dlynr0IzUtYA",
        "7KAsuoBD5EQ7",
        "1o9HKFS-5KV3",
        "YlOkwx2g5RTb",
        "ATGoys8IU7Kp",
        "_7fB2588VF5g",
        "VTLXGJw2VMUh"
      ],
      "toc_visible": true
    },
    "kernelspec": {
      "name": "python3",
      "display_name": "Python 3"
    },
    "language_info": {
      "name": "python"
    }
  },
  "cells": [
    {
      "cell_type": "markdown",
      "metadata": {
        "id": "fm1JA3v0UnNw"
      },
      "source": [
        "# Installs"
      ]
    },
    {
      "cell_type": "code",
      "metadata": {
        "id": "lITcZUpHbJL0"
      },
      "source": [
        "%pip install datasets"
      ],
      "execution_count": null,
      "outputs": []
    },
    {
      "cell_type": "code",
      "metadata": {
        "id": "4Xat2hBbbV82"
      },
      "source": [
        "%pip install rouge_score"
      ],
      "execution_count": null,
      "outputs": []
    },
    {
      "cell_type": "code",
      "metadata": {
        "id": "9bqTZSN67y7u"
      },
      "source": [
        "%pip install sacrebleu"
      ],
      "execution_count": null,
      "outputs": []
    },
    {
      "cell_type": "code",
      "metadata": {
        "id": "0ej40I0J4xTv"
      },
      "source": [
        "%pip install -U nltk"
      ],
      "execution_count": null,
      "outputs": []
    },
    {
      "cell_type": "code",
      "metadata": {
        "id": "0lL2W576uxnv"
      },
      "source": [
        "%pip install git+https://github.com/google-research/bleurt.git"
      ],
      "execution_count": null,
      "outputs": []
    },
    {
      "cell_type": "code",
      "metadata": {
        "id": "K_93nvemu-tu"
      },
      "source": [
        "%pip install bert_score"
      ],
      "execution_count": null,
      "outputs": []
    },
    {
      "cell_type": "code",
      "metadata": {
        "id": "UU0-8LHt4z5m"
      },
      "source": [
        "!git clone \"https://github.com/neural-dialogue-metrics/Distinct-N.git\""
      ],
      "execution_count": null,
      "outputs": []
    },
    {
      "cell_type": "code",
      "metadata": {
        "id": "-aQroPdp43wG"
      },
      "source": [
        "%pip install ./Distinct-N/"
      ],
      "execution_count": null,
      "outputs": []
    },
    {
      "cell_type": "code",
      "metadata": {
        "id": "absRFpm6Mlas"
      },
      "source": [
        "%pip install lexical-diversity"
      ],
      "execution_count": null,
      "outputs": []
    },
    {
      "cell_type": "markdown",
      "metadata": {
        "id": "Dlynr0IzUtYA"
      },
      "source": [
        "# Load dataset"
      ]
    },
    {
      "cell_type": "code",
      "metadata": {
        "id": "qRa-sMRoUUNx"
      },
      "source": [
        "# Load dataset\n",
        "from datasets import load_dataset\n",
        "data = load_dataset(\"gem\", \"common_gen\")"
      ],
      "execution_count": null,
      "outputs": []
    },
    {
      "cell_type": "markdown",
      "metadata": {
        "id": "7KAsuoBD5EQ7"
      },
      "source": [
        "## Explore dataset structure"
      ]
    },
    {
      "cell_type": "code",
      "metadata": {
        "id": "lHQBmyxGVgPg"
      },
      "source": [
        "data"
      ],
      "execution_count": null,
      "outputs": []
    },
    {
      "cell_type": "code",
      "metadata": {
        "colab": {
          "base_uri": "https://localhost:8080/"
        },
        "id": "JLwgXsuyWpch",
        "outputId": "859e9ff7-171d-4cd6-e5a7-8886eb7d517e"
      },
      "source": [
        "test_instance = data['test'][0]\n",
        "test_instance"
      ],
      "execution_count": null,
      "outputs": [
        {
          "output_type": "execute_result",
          "data": {
            "text/plain": [
              "{'concept_set_id': 0,\n",
              " 'concepts': ['drill', 'field', 'run', 'team'],\n",
              " 'gem_id': 'common_gen-test-0',\n",
              " 'gem_parent_id': 'common_gen-test-0',\n",
              " 'references': [],\n",
              " 'target': ''}"
            ]
          },
          "metadata": {
            "tags": []
          },
          "execution_count": 14
        }
      ]
    },
    {
      "cell_type": "code",
      "metadata": {
        "colab": {
          "base_uri": "https://localhost:8080/"
        },
        "id": "mc9vPliRWHoz",
        "outputId": "083d0fe1-4aca-4304-fa6b-6f1cd6fa5ff7"
      },
      "source": [
        "validation_instance = data['validation'][0]\n",
        "validation_instance"
      ],
      "execution_count": null,
      "outputs": [
        {
          "output_type": "execute_result",
          "data": {
            "text/plain": [
              "{'concept_set_id': 0,\n",
              " 'concepts': ['field', 'look', 'stand'],\n",
              " 'gem_id': 'common_gen-validation-0',\n",
              " 'gem_parent_id': 'common_gen-validation-0',\n",
              " 'references': ['The player stood in the field looking at the batter.',\n",
              "  'The coach stands along the field, looking at the goalkeeper.',\n",
              "  'I stood and looked across the field, peacefully.',\n",
              "  'Someone stands, looking around the empty field.'],\n",
              " 'target': 'The player stood in the field looking at the batter.'}"
            ]
          },
          "metadata": {
            "tags": []
          },
          "execution_count": 15
        }
      ]
    },
    {
      "cell_type": "code",
      "metadata": {
        "colab": {
          "base_uri": "https://localhost:8080/"
        },
        "id": "ne8r-ViQXRTs",
        "outputId": "2f7b1ca0-31d1-4851-f259-02c5c982648b"
      },
      "source": [
        "challenge_test_instance = data['challenge_test_scramble'][0]\n",
        "challenge_test_instance"
      ],
      "execution_count": null,
      "outputs": [
        {
          "output_type": "execute_result",
          "data": {
            "text/plain": [
              "{'concept_set_id': 1428,\n",
              " 'concepts': ['ice', 'wall', 'use', 'climb', 'pick'],\n",
              " 'gem_id': 'common_gen-challenge_test_scramble-0',\n",
              " 'gem_parent_id': 'common_gen-test-1428',\n",
              " 'references': [],\n",
              " 'target': ''}"
            ]
          },
          "metadata": {
            "tags": []
          },
          "execution_count": 18
        }
      ]
    },
    {
      "cell_type": "code",
      "metadata": {
        "colab": {
          "base_uri": "https://localhost:8080/"
        },
        "id": "wlL_gI61W68Z",
        "outputId": "44f7f5c9-4745-4498-d334-0c74bb18f766"
      },
      "source": [
        "challenge_validation_instance = data['challenge_validation_sample'][0]\n",
        "challenge_validation_instance"
      ],
      "execution_count": null,
      "outputs": [
        {
          "output_type": "execute_result",
          "data": {
            "text/plain": [
              "{'concept_set_id': 844,\n",
              " 'concepts': ['bench', 'kid', 'line', 'ride', 'sit'],\n",
              " 'gem_id': 'common_gen-challenge_validation_sample-0',\n",
              " 'gem_parent_id': 'common_gen-validation-844',\n",
              " 'references': ['The kid stood in line for the ride while I chose to sit on the bench.',\n",
              "  'The line for the ride at the fair was too long so the kid went to go sit on the bench nearby.',\n",
              "  'The parents sat on a bench while the kids waited in line for an amusement park ride.',\n",
              "  'A kid sits on a bench while the kid waits in line to go on a ride at the fair.',\n",
              "  'People wait in line for a ride while kids sit on bench.'],\n",
              " 'target': 'The kid stood in line for the ride while I chose to sit on the bench.'}"
            ]
          },
          "metadata": {
            "tags": []
          },
          "execution_count": 17
        }
      ]
    },
    {
      "cell_type": "code",
      "metadata": {
        "colab": {
          "base_uri": "https://localhost:8080/",
          "height": 36
        },
        "id": "E_V4OBjxWQ9I",
        "outputId": "e88806f3-663b-4004-8060-604ef5e59a51"
      },
      "source": [
        "concept = challenge_validation_instance.get(\"target\")\n",
        "concept"
      ],
      "execution_count": null,
      "outputs": [
        {
          "output_type": "execute_result",
          "data": {
            "application/vnd.google.colaboratory.intrinsic+json": {
              "type": "string"
            },
            "text/plain": [
              "'The kid stood in line for the ride while I chose to sit on the bench.'"
            ]
          },
          "metadata": {
            "tags": []
          },
          "execution_count": 20
        }
      ]
    },
    {
      "cell_type": "code",
      "metadata": {
        "colab": {
          "base_uri": "https://localhost:8080/",
          "height": 36
        },
        "id": "epfy_7g3VqD3",
        "outputId": "ea7d0c47-dd9e-4503-e76a-77d1d46461ca"
      },
      "source": [
        "validation_targets = []\n",
        "for i in range(len(data['validation'])): \n",
        "  instance = data['validation'][i]\n",
        "  target = instance.get(\"target\")\n",
        "  validation_targets.append(target)\n",
        "validation_targets[0]"
      ],
      "execution_count": null,
      "outputs": [
        {
          "output_type": "execute_result",
          "data": {
            "application/vnd.google.colaboratory.intrinsic+json": {
              "type": "string"
            },
            "text/plain": [
              "'The player stood in the field looking at the batter.'"
            ]
          },
          "metadata": {
            "tags": []
          },
          "execution_count": 25
        }
      ]
    },
    {
      "cell_type": "markdown",
      "metadata": {
        "id": "1o9HKFS-5KV3"
      },
      "source": [
        "## Extract validation set"
      ]
    },
    {
      "cell_type": "code",
      "metadata": {
        "id": "UzS2RokvYhRU",
        "colab": {
          "base_uri": "https://localhost:8080/"
        },
        "outputId": "72c3b9cc-ff10-41b4-936e-c86f80c917ac"
      },
      "source": [
        "validation_data = []\n",
        "validation_data = data['validation']\n",
        "validation_data['target']"
      ],
      "execution_count": 59,
      "outputs": [
        {
          "output_type": "execute_result",
          "data": {
            "text/plain": [
              "['The player stood in the field looking at the batter.',\n",
              " 'The silly kid loves to dance in her room.',\n",
              " 'A pet cat likes to sleep on a couch.',\n",
              " 'The mouse climbed the side of the building.',\n",
              " 'The woman thats talking teaches her students how to climb the wall.',\n",
              " 'The car drove through the snow.',\n",
              " 'The boy wants to wear earpods as he talks on his phone.',\n",
              " 'The team practiced hockey at the outdoor rink.',\n",
              " 'the ocean is where surfers go to surf',\n",
              " 'A boy jumps up a flight of stairs taking two at a time.',\n",
              " 'The school band played their instruments in unison rendering a sweet music.',\n",
              " 'The students sit in a circle as the teacher talks.',\n",
              " 'I quickly moved back, while still looking into the eyes of the stranger.',\n",
              " 'He looked at his watch and then out of the window.',\n",
              " 'The athlete performs stretches as they prepare to run.',\n",
              " 'The hiker bought new gear to wear for the walk to the waterfall.',\n",
              " 'The man on stage is giving a speech.',\n",
              " 'A man rubs his hands with soap after using the bathrooom.',\n",
              " 'A girl waved her hand in front of the man.',\n",
              " 'David had to mow the lawn by 12:00pm, and there are a yard to finish.',\n",
              " 'Create pottery with a wheel and clay.',\n",
              " 'The sofa will sit in the living room and will hold visitors who visit.',\n",
              " 'the man sat down holding the newspaper.',\n",
              " 'The girl sits as she looks in the mirror while styling her hair.',\n",
              " 'use the equipment to climb the mountain',\n",
              " 'The kid wanted to sit in the empty space and stare at the wall.',\n",
              " \"I didn't mean to kick the ball into the goalie's head.\",\n",
              " 'The female dancer wears a pretty costume on the stage.',\n",
              " 'A girl was standing with her hands in her pocket.',\n",
              " 'The cat is sitting on the floor.',\n",
              " 'A girl sat on the couch with her arms stretched towards the ceiling.',\n",
              " 'He looks at the clock while lying in bed.',\n",
              " 'a girl stands in front of the wall watching it',\n",
              " 'A child eats a meal her mother prepares.',\n",
              " 'She is to bounce the ball a hundred times I 2 minutes.',\n",
              " 'The sister cut some hair to style it for prom.',\n",
              " 'The children walk with their dog on a leash down the street.',\n",
              " 'A kid slides into the pool.',\n",
              " 'wash your hand and stand by the wall',\n",
              " 'The teenagers sprayed graffiti on the wall.',\n",
              " 'A car was parked on the side of the street.',\n",
              " 'I took my dog for a ride to the park so we could walk.',\n",
              " 'the woman rides through the woods on a trail.',\n",
              " 'The knife cut into the wood chopping board',\n",
              " 'The cat tried to hold my hand while I tried to clip my nails.',\n",
              " 'The swimmer can swim in his lane.',\n",
              " 'I used a blower to blow the leaves into a pile.',\n",
              " 'Do not stand too close the the wall, it was just painted.',\n",
              " 'The man falls after he throws the ball.',\n",
              " 'The boy stands on the side of the boat in the morning.',\n",
              " 'The girl may fall if she tries to jump to the ground.',\n",
              " 'A gymnast flips on a mat.',\n",
              " 'The pitcher will pitch the ball.',\n",
              " 'The boy pops a wheelie while riding his bike.',\n",
              " 'A woman stops to listen to a man playing music on a street corner.',\n",
              " 'The boy wears shoes while walking on the grass.',\n",
              " 'A girl holds her hand out as the cat watches.',\n",
              " 'The ball hit the floor.',\n",
              " 'The woman went into the kitchen to roll out the dough for the biscuits.',\n",
              " 'The robber pointed the gun at the head of the bank manager.',\n",
              " 'The boat in the water was docked near the pier.',\n",
              " 'The woman holds turns on a microphone to sing on stage.',\n",
              " 'The man stopped to take a picture.',\n",
              " 'The marching band members dressed in costume and bore their instruments, ready to start.',\n",
              " 'The toddler had to kick the ball and run on the grass to first place.',\n",
              " 'In a soccer game players score goal',\n",
              " 'A girl kept watch when she crossed the street.',\n",
              " 'A boy sits on the foot of the bed every morning to stretch before leaving his room.',\n",
              " 'The boy closed his eyes and held his mouth shut because there was a swarm of bugs.',\n",
              " 'This building is decaying, therefore the girl may need a rope to climb to the top.',\n",
              " 'when headphones meant to be worn not watched',\n",
              " 'The student is watching his peers in class.',\n",
              " 'house jump trampoline is on the yard',\n",
              " 'The boy put his foot into the sock.',\n",
              " 'The girl eats the cream with a spoon.',\n",
              " 'The boat sailed all day.',\n",
              " 'The class took the stage to perform their part in the performance.',\n",
              " 'A woman mixes salad in a bowl with a spoon.',\n",
              " 'A kid is holding a knife in the wrong hand.',\n",
              " 'The swimmer races down their lane winning the heet.',\n",
              " 'Its polite to give your chair to an elderly lady so she can sit.',\n",
              " 'In Badminton the goal is to hit the birdie with a racket without crossing the boundary lines.',\n",
              " 'The teen had to fix his tire on the bike so he could ride it.',\n",
              " 'The beautician pierced the ear with the needle.',\n",
              " 'We put on our climbing gear hen we want to climb a wall.',\n",
              " 'The boy listened to music on his bike ride.',\n",
              " 'She bought a new dress for dance class ready to perform.',\n",
              " \"don't smoke cigarette in the car\",\n",
              " 'In yoga, a lady folded her arms around her chest for a pose.',\n",
              " 'The child will walk to the top of the hill with his dog.',\n",
              " 'The girl blew a bubble from her toy.',\n",
              " \"The girl's mother wanted her friend to cut Macy's hair.\",\n",
              " 'The man helps to wash the dishes.',\n",
              " 'The man gives a speech to a large audience.',\n",
              " 'A man runs on a treadmill while listening to upbeat music.',\n",
              " 'A boy had to hold a kitchen stand when it broke.',\n",
              " 'The kids put their hands in the air while riding a roller coaster.',\n",
              " 'The dog eats food inside the house.',\n",
              " 'dances female and male make a couple dancers',\n",
              " 'I use a comb to fix my hair.',\n",
              " 'The rider had to wear a helmet before getting on the horse.',\n",
              " 'There is a beautiful view of the ocean from a boat.',\n",
              " 'Johnny hit the ball to score on the other team.',\n",
              " 'The girl holds the paper with her hand.',\n",
              " 'when you pole vault you launch over a bar.',\n",
              " 'The man reached out his hand to open the door',\n",
              " 'I had to wear my shirt to bed.',\n",
              " 'The lady knew how to apply her makeup.',\n",
              " 'Please pour me a beverage in the glass.',\n",
              " 'dive jump into the pool',\n",
              " 'I would rather drive down the street than walk.',\n",
              " 'I stood in the grass and held the trimmer in my hand.',\n",
              " 'the couple took a ride down the road in their cart',\n",
              " 'Cheer the number  one racer to race and run faster',\n",
              " 'The man sat on top of the table played the guitar.',\n",
              " 'The man wears protective gloves when working with machines.',\n",
              " 'A woman crosses the street while talking on her phone.',\n",
              " 'A kid throws a ball in the yard.',\n",
              " 'face hair like to move across his face',\n",
              " \"The spa employee rubbed lotion on the client's face.\",\n",
              " 'While driving the boat it looked like the water was standing still.',\n",
              " 'As the dogs ran, they pulled the sleigh.',\n",
              " 'The mom watched her teen shave her legs.',\n",
              " 'The teacher told the kids in class to sit in their assigned seats.',\n",
              " 'The man plays guitar as he sits on his tall stool',\n",
              " 'I sit on my bike and ride down the street.',\n",
              " 'The girl threw the football to score the touchdown that won the game.',\n",
              " 'The family went to the dining room to eat their food.',\n",
              " 'We sat in the front of the crowd to watch basketball.',\n",
              " 'A boy washes his face in the bathroom.',\n",
              " 'You will have to dress to perform on the stage.',\n",
              " 'A boy sits down and works at a machine.',\n",
              " 'He hit the dart board.',\n",
              " 'The man shaves the side of his head with a razor.',\n",
              " 'As he walked he threw a rock into the river.',\n",
              " 'We can talk while we eat at the restaurant.',\n",
              " 'Do not stand in front of the equipment while it is in use.',\n",
              " 'The horse pulling the carriage draws to a stop.',\n",
              " 'I used a brush to clean the window',\n",
              " \"The barber shaved the man's head with a trimmer.\",\n",
              " 'A lady stands and watches the way the dancers move.',\n",
              " 'The boy has a smile on his face as he climbs the rope.',\n",
              " 'People should not drive a car while talking on the phone.',\n",
              " 'A couple rides down the street.',\n",
              " 'hill sle stand alone',\n",
              " 'A player dribbles the basketball around the court.',\n",
              " 'The kid rolled the ball across the ground.',\n",
              " 'The girl floated the tube in the river.',\n",
              " 'Jumping in the pool is more fun than standing',\n",
              " 'Don trump wont throw  the fist pitch of the game',\n",
              " 'The ground is covered by snow, and  The family shovelled together.',\n",
              " 'All people are to stand as the judge enters to hold court.',\n",
              " 'The little kid had a loose front tooth and the dentist said to brush very carefully.',\n",
              " 'I hit the board and caused it to flip over water.',\n",
              " 'The man raises his arms and jumps in a star motion.',\n",
              " 'I love to listen to music as i exercise everyday.',\n",
              " 'she can stay in front of the mirror in her room all day long',\n",
              " 'The car parks on the right side of the street.',\n",
              " 'The guests wanted to sit at the table in their friends new house.',\n",
              " 'The man rode the tricycle into his driveway.',\n",
              " 'A woman runs a path in a park.',\n",
              " 'As I was walking downtown to catch the subway, the usual street guy who plays his instrument was not there today.',\n",
              " 'While visiting the beach, the child made a sand castle.',\n",
              " 'stand and stick your tongue out said the doctor',\n",
              " 'A man jumps on a horse and rides it up the hill.',\n",
              " 'The man sat while being tattooed on his arm.',\n",
              " 'The museum will take the picture of the camel to the basement.',\n",
              " 'The woman cuts the tomato with a knife.',\n",
              " 'A candle sits on a table.',\n",
              " 'The dog was pulling the person while they were out on a run.',\n",
              " 'an instructor teaches a student',\n",
              " 'The boy sat down to rub his face.',\n",
              " 'The ball was serve on  a tennis court',\n",
              " 'There is a violin stand on the stage.',\n",
              " 'The filthy dog has to take a bath in the bathtub.',\n",
              " 'In a team a valuable player is one who can make a shot',\n",
              " 'A boy jumps over the water in the lake',\n",
              " 'The couple love to swim in their new pool.',\n",
              " 'The boy picked up small balls from the ground, and held them in his outstretched shirt.',\n",
              " 'The boat float down the river.',\n",
              " 'The lady on the boat paddled to go to the shore.',\n",
              " 'A man drinks a can of beer in his room.',\n",
              " 'the team engaged in the game with confidence',\n",
              " 'The kid skipped a rock at the lake.',\n",
              " 'The children have to wait in line to use the slide at the play ground.',\n",
              " 'The chef prepares the dish in the kitchen',\n",
              " 'The runner prefers jogging on roads.',\n",
              " 'The girl picked up the hamburger off the table to eat.',\n",
              " 'The little kid sits in the backseat of the car.',\n",
              " 'The girls took a ride on the horses to the tree by the lake.',\n",
              " 'It is hard to cook in a kitchen if you do not have a stove.',\n",
              " 'a man sees the body of a boy in a canoe on the water',\n",
              " 'The performer performed on stage.',\n",
              " 'A man throws a ball to the side.',\n",
              " 'The man pulled the raft out of the water.',\n",
              " 'I sat at the base of the tree and held my book in front of me.',\n",
              " 'Dig the dirt and plant the tree.',\n",
              " 'The boy in the chair is getting a hair cut as he wanted a new style.',\n",
              " 'The kid tossed the ball across the court.',\n",
              " 'A woodworker uses a tool to work on wood and make sculptures.',\n",
              " 'The boy ran and jumped into the pile of leaves.',\n",
              " 'Her shirt fell to the floor, in the place that I usually sit.',\n",
              " 'the man read the paper sitting at the table.',\n",
              " 'The food was served on the table at the restaurant.',\n",
              " 'I held the bow waiting to shoot.',\n",
              " 'The crowd watched the soccer team play the game.',\n",
              " 'A woman wearing a bikini plays volleyball on the beach.',\n",
              " 'The girl held the wood in her hand.',\n",
              " 'She stood in front of the grass.',\n",
              " 'I stood at the Midi-Pyrenees ski resort and came down skiing as snow hit my face, gently wetting it.',\n",
              " 'The boy looked at some items in the store.',\n",
              " 'talk but dont shake your hand',\n",
              " 'He would sit alone in his room with his keyboard.',\n",
              " 'Cutting the forest will get re off the woods',\n",
              " 'The girl will dance when the band plays music.',\n",
              " 'The dog is walking down the street on a leash.',\n",
              " 'The little brother had to stand and wait while the older sister looked for their parents.',\n",
              " 'The man hold the dog while getting water.',\n",
              " 'The ball hit the wall and bounced off.',\n",
              " 'The waiter sets the table at the restaurant.',\n",
              " 'Jump on the trampoline and fly in the air.',\n",
              " 'A group of kids run and jump into the water.',\n",
              " 'The teenager spent the day riding the ocean waves on his surfboard.',\n",
              " 'The lady lifts up the weight.',\n",
              " 'The athlete will run a race.',\n",
              " 'the skateboard is inthe middle of the street',\n",
              " 'The couple in the room has a kid.',\n",
              " 'I like to wear pajamas when I watch short films in my room.',\n",
              " 'The artist and his band wearing crazy outfits was performing on the stage',\n",
              " 'The net held only fish once the water drained out.',\n",
              " 'There was a fire in the front of building, the people were evacuated and had to stand outside.',\n",
              " 'A dog went to the park and eats a treat.',\n",
              " \"The machine at the gym I wanted to use didn't work.\",\n",
              " 'The girl parked her car on the side of the street in front of the house.',\n",
              " 'The man wears a harness as he climbs the rock wall.',\n",
              " 'A lady fixes her hair.',\n",
              " 'The tile floor in the room was broken, so the students could no longer stand on it.',\n",
              " 'The man sits in a chair to trim his beard.',\n",
              " 'The kid walked up to the water.',\n",
              " 'The rider rides a sled down the hill.',\n",
              " 'The nervous singer chose to sit and hold the microphone.',\n",
              " 'A man uses an ax to chop logs into fire wood.',\n",
              " 'The girls goes to her room to lay in bed.',\n",
              " 'My dad was clearing the path after it snowed.',\n",
              " 'A diver swims out of the ocean, back to shore.',\n",
              " 'A man paddles a raft down the river.',\n",
              " 'A player turns towards home plate and throws the ball.',\n",
              " 'The water was running from the faucet.',\n",
              " 'Every sunday there is a great football  game to watch  on tv',\n",
              " 'The man is pressing weights at the gym.',\n",
              " 'The boy sits on the swing and his mother pushes him.',\n",
              " 'We need to wash our hands after we turn he screw driver.',\n",
              " 'The mother sits on a chair.',\n",
              " 'A girl went to the pool in swim wear.',\n",
              " 'The man sharpens his knife so he can cut an apple.',\n",
              " 'The young girl slept in her seat as the car whizzed by the streetlights',\n",
              " 'The mok teaches her child how to tie her shoes.',\n",
              " 'dog pull out to first in the race',\n",
              " 'The blind man wears sunglasses indoors.',\n",
              " 'The lady cut my hair for donation.',\n",
              " 'The woman sings her new song into the microphone.',\n",
              " 'To play this game, the cards first have to be shuffled.',\n",
              " 'A ballerina, wearing a pink outfit, dances on a stage.',\n",
              " 'The short man wears brown shoes.',\n",
              " 'A few people in the ground were sitting while a few were standing.',\n",
              " 'I sit at the campsite and blow the smoke from the fire away from my face.',\n",
              " \"he wear's the guitar strap as he sits down.\",\n",
              " 'A girl peels some potatoes and then places them in a bowl.',\n",
              " 'Two kids talk as they walk down the hall.',\n",
              " 'The worker painted the wall white yesterday.',\n",
              " 'The young girl sits on the ground and watches her friends.',\n",
              " 'as he sits on his bed he reads his book quietly',\n",
              " 'The football player liked to talk a lot while on the field',\n",
              " 'The boy climbed to the top of the cliff.',\n",
              " 'The goal of soccer players playing in the field is to score.',\n",
              " 'The man used the brush to scrub his shoe.',\n",
              " 'Sit there and hold that smile while I take your picture.',\n",
              " 'The man sits at the side of the table.',\n",
              " 'I held the cup of coffee while i talked to my wife',\n",
              " 'The kid loves to swing at the park.',\n",
              " 'The girls will watch the band perform the music.',\n",
              " 'If you stand here and look the farthest distance you can, past the mountain, you will see the flying eagle.',\n",
              " 'The snake handler draped the python over his shoulder.',\n",
              " 'The crowd will cheer the performance.',\n",
              " 'The teenager wows the audience by playing his guitar on stage at the talent show.',\n",
              " 'The young kid hit the ball into the opponents court.',\n",
              " 'The kid dances on the stage.',\n",
              " 'The crowd competed who will be in the front',\n",
              " 'You can cross the river on he rocks.',\n",
              " 'A player makes the final shot and wins the game.',\n",
              " 'The boy holds a cup while he stands and watches the game.',\n",
              " 'The man has to wear the right gear while welding.',\n",
              " 'The surfer went to the ocean to catch a wave to surf.',\n",
              " 'The large boat carried items or water.',\n",
              " 'The woman commands the room while she gives her presentation.',\n",
              " 'The worker applied plaster to the wall.',\n",
              " 'The guitar player singed his shirt',\n",
              " \"Let's roll the ball on the ground.\",\n",
              " 'A man painted a picture of a beautiful lady',\n",
              " 'A woman enjoys a game where there is a player and a crowd.',\n",
              " 'Kid look at the shirts  at the store',\n",
              " 'I stand by the shore near the water.',\n",
              " 'A man sits on the table with the bags.',\n",
              " 'I laid the blanket on the bed.',\n",
              " 'She used a kitchen knife to cut the food.',\n",
              " 'The climbing instructor demonstrated how to use proper climbing technique, while talking about the sport as well.',\n",
              " 'The chef used a cutting board to slice the vegetables for his salad.',\n",
              " 'The boy throws the ball and the dog fetches it.',\n",
              " 'The pilgrim laughs as he rides his bike in circles.',\n",
              " 'A game of hockey needs at least one player.',\n",
              " 'The man sit down in the room to watch television.',\n",
              " 'I stood and watched the tree rustle in the wind.',\n",
              " 'The lady will sit down and cover her face.',\n",
              " 'The players run around the field playing hockey.',\n",
              " 'a boy gives hugs and kisses to his girlfriend',\n",
              " 'The front of the audience gasped as the performer singed himself.',\n",
              " 'The man climbed the ladder and stood on top of the wall.',\n",
              " 'I shook my head as I watched my friend accidentally walk into a pole.',\n",
              " 'There is a dance competition where the little girl has to perform her routine',\n",
              " 'The man uses a raft to move around in the big body of water',\n",
              " 'The girl wanted to stand in the front of the stage but was placed in the background.',\n",
              " 'The kid ran into the field to catch a baseball.',\n",
              " 'The man put his hand on his head.',\n",
              " 'The boy looked out of the window sadly because the rain kept him inside the house.',\n",
              " 'a man holds the door for the next person as they walk in the room',\n",
              " 'The child uses the bubble wand to blow bubbles.',\n",
              " 'The construction workers could not drill the piece into the wood.',\n",
              " 'The ball was meant to pass the court and not hit it.',\n",
              " 'The singer sings a song but singed her hair on a candle.',\n",
              " 'a man hit ball and turn',\n",
              " 'A man can catch fish with a fishing pole.',\n",
              " 'The man worked on his car in the garage all afternoon.',\n",
              " 'A person cut meat in the kitchen.',\n",
              " \"He stands on he's board while riding the wave.\",\n",
              " 'The man shook his head while walking away.',\n",
              " 'a man in the crowd claps with the hands',\n",
              " 'The boat moves along the water.',\n",
              " 'The man holds his beer glass at the party.',\n",
              " 'I can slide the door open.',\n",
              " 'The girl was sitting in the couch and looking at a bed in a catalog.',\n",
              " 'If you look through the window of a moving car, you could get disoriented.',\n",
              " 'The people in the bleachers watch the cheerleaders jump up and down in front of the crowd.',\n",
              " 'The boy laid on the couch and went to sleep.',\n",
              " 'He took a hold of the leg stand of the table',\n",
              " 'He shoots the ball straight into the hoop and the entire court goes wild.',\n",
              " 'A kid climbs a ladder to picks some apples from a tree.',\n",
              " 'The truck poured the concrete onto the pavement.',\n",
              " 'A man drives a scooter down the street.',\n",
              " 'The player passes the puck in the hockey game.',\n",
              " 'Michael threw the ball to his open teammate.',\n",
              " 'The woman fixed her hair whilst looking in the mirror.',\n",
              " \"Water covered the front of a boy's body.\",\n",
              " 'The cowboy has to lasso the calf quickly.',\n",
              " 'The lady danced in front of the crowd like no one was watching.',\n",
              " 'The artist uses paint to paint a picture.',\n",
              " 'The kids are sliding down the hill.',\n",
              " 'The policeman directs traffic during rush hour.',\n",
              " 'as he climbed up the tree, he looked down in fear',\n",
              " 'The jockey will ride the horse one time around the track.',\n",
              " 'the woman friends sit and talk as she listens to them.',\n",
              " 'The toddler ate food whilst in his chair.',\n",
              " 'A car stops on the street at the stop sign.',\n",
              " 'The monkey climbs the rope hanging from the waterfall',\n",
              " 'Team Sakura performed the weekly routine on Saturday at 10:00 am.',\n",
              " 'The man wear shirt and tie for an interview.',\n",
              " 'The boy carrying the white board fell over while riding the bicycle.',\n",
              " 'The man rode the horse to the shallow river.',\n",
              " 'A toddler can sit on the lap of his mother.',\n",
              " 'The man washes his car with a hose.',\n",
              " \"The person's leg touched the floor when he sat down.\",\n",
              " 'I raised my arm so the teacher would notice my hand was up',\n",
              " 'Sparks will fly when you weld.',\n",
              " 'The woman pulled the shirt she was going to wear over her head to get it on',\n",
              " 'A boy folds a hand towel while standing.',\n",
              " 'the routine of a skater consists in performing',\n",
              " 'If a woman wants to sit down, the woman can sit on a chair or on the floor.',\n",
              " 'Whenever the cowboys ride bulls at the county fair the crowd goes wild.',\n",
              " 'The woman prepares to race, she gets ready to run.',\n",
              " 'The friends take part in a fun board game.',\n",
              " 'The team plays baseball in a new field',\n",
              " 'The toddler looks at the book.',\n",
              " 'The teenager was going to put her walk on hold so she could find her phone.',\n",
              " 'The man wore a hat whilst he drove the car.',\n",
              " 'A lady used a scissors as a tool to cut a piece of thread.',\n",
              " 'The boy needed a swim suit to go to the pool party.',\n",
              " 'I sit down to eat my plate of food.',\n",
              " 'The cook forgot to bring the extra pan to the kitchen.',\n",
              " 'The child blew the candles out on the birthday cupcake.',\n",
              " 'We need a ball to play the soccer game in the gym.',\n",
              " 'A golfer putts a ball into a hole.',\n",
              " 'The street was covered in snow.',\n",
              " 'The girl performs her routine on the mats in the gym.',\n",
              " 'In the front yard we eat food at our bbq.',\n",
              " 'The boy is on the stage in his costume behind the music stand.',\n",
              " 'The surfboard coasted smoothly across the water as the wave built up',\n",
              " 'The boy rides the scooter on a hill.',\n",
              " 'The bridge spans across a body of water.',\n",
              " 'A man holds a pair of shoes waiting for his son to get off the slide.',\n",
              " 'The boy rode his bike up the river.',\n",
              " 'decorate for the holiday will be a good talk even for tree',\n",
              " 'The boy sit and play the guitar; while the girls watched.',\n",
              " 'Mom asked us to go sit at the kitchen table so that we could eat breakfast.',\n",
              " 'When riding this vehicle, you must wear a helmet.',\n",
              " 'He ate from the plate of spaghetti.',\n",
              " 'A man dressed with a suit and a tie sits in front of me in the metro.',\n",
              " 'One should not wear a full suit to the ocean.',\n",
              " 'The boy climbed a flight of stairs.',\n",
              " 'The girl had to pull the sled up the hill.',\n",
              " 'Mothers feed their babies while they sit in highchairs.',\n",
              " \"The dog holds the frisbee in it's mouth.\",\n",
              " 'They sing from the stage they stand on.',\n",
              " 'She climbed up the ladder to trim the hedge.',\n",
              " 'The woman sits on top of the horse.',\n",
              " 'The woman rides her snowmobile down the mountain.',\n",
              " 'The duck is swimming in a lake.',\n",
              " 'The crowd cheered during the event.',\n",
              " 'A small boy uses his shirt to hold a large bottle.',\n",
              " 'The girl wears safety gear when skating.',\n",
              " 'The girl wonders if the display stand will hold the toy car.',\n",
              " 'A kid pushes another kid on the swing.',\n",
              " 'Lets wear a cute costume to the street dance.',\n",
              " 'The Birthday girl was told to sit in front of her cake at the party.',\n",
              " 'The boy parked the car in front of the building.',\n",
              " 'The band marched down the street with many instruments.',\n",
              " 'The people sit and stand to watch the game.',\n",
              " 'The famous artist will paint a portrait at the fair.',\n",
              " 'pick the ball and run the faster you can',\n",
              " 'A girl jumps into a pool without her swimsuit',\n",
              " 'The woman sits down to eat a donut.',\n",
              " 'The skiing man jumped when he was going down a ski slope.',\n",
              " 'A man would lean outside the window to look at the scenery.',\n",
              " 'A man smiles as he smokes his cigarette.',\n",
              " 'A girl does a skateboard trick at a park.',\n",
              " 'The woman knew she had a lot of snow to shovel.',\n",
              " 'I often sit down solitary in my room reading non-fiction.',\n",
              " 'Th sad man got to the top of the cliff to jump off.',\n",
              " 'The couple will wait in line.',\n",
              " 'A girl plans to wear a dress and nice shoes to the dance.',\n",
              " 'When the little girl swims, her mother holds on to her hand.',\n",
              " 'The couple stands and talks under the tree.',\n",
              " 'Carry the glass of water and place it on the board.',\n",
              " 'I stand under a tree and grabbed for the branch.',\n",
              " 'When you ice fish, first you dig a hole in order to catch any fish.',\n",
              " 'The girl jumped off the edge, into the pool.',\n",
              " 'The man is bowling the bowling ball down the bowling alley.',\n",
              " 'The boy rides the unicycle down the sidewalk.',\n",
              " 'The boy was taught how to throw a rock into a pond, and .',\n",
              " 'The car parked outside is covered by snow.',\n",
              " 'the ball bounce of his head',\n",
              " 'The would women take a sip of wine from a bottle and get dizzy.',\n",
              " 'He has been riding his bike on slope for the  last 15 minutes.',\n",
              " 'when he hit the ball from upstair  it fall on the ground .',\n",
              " 'The girl kicked the soccer ball into the net and scored a goal.',\n",
              " 'hand hold toy are great for kids',\n",
              " 'A comedian talks about life on stage while holding the microphone.',\n",
              " 'The dealer put the card down on the table.',\n",
              " 'the girl walked the dog on a leash.',\n",
              " 'Men are running while playing a basketball game.',\n",
              " 'The girl will go to the river and try to catch a fish.',\n",
              " 'The crowd stood up to cheer as the woman walked across the rope.',\n",
              " 'The pitcher catches the ball.',\n",
              " 'The girl stands at the front of the pool.',\n",
              " 'A man puts the glass on the table, and  A woman takes it.',\n",
              " 'The farmer wore a jacket while driving the tractor.',\n",
              " 'Toddlers love to throw balls.',\n",
              " 'A cheerleader performs a routine in a field.',\n",
              " 'While the men were walking, they looked at the house across the street.',\n",
              " 'The worker cleaned the floor.',\n",
              " 'I picked up and apple and threw it in the air so he could catch it',\n",
              " \"Im going to hold this hockey stick while wearing my favorite team's shirt.\",\n",
              " 'The man ate a burger at the table.',\n",
              " 'A man is playing flute sitting on a chair',\n",
              " 'The cheerleader performed their routine in front of the stadium crowds.',\n",
              " 'toss the ball to the air',\n",
              " \"The man couldn't stand on the surfboard while the water was rough\",\n",
              " \"The book is on the girl's lap when she reads.\",\n",
              " 'A lady put makeup on her eyes.',\n",
              " 'The man blows the leaves off of his lawn.',\n",
              " 'The band stood in front of the doors to the gym.',\n",
              " 'holloween the kid wear costume and walk the street pick up candy',\n",
              " 'The kid wanted to ride on the motorcycle.',\n",
              " 'A man was on a horse trying to catch a cow with the lasso',\n",
              " 'A man stands on the grass and then sits down.',\n",
              " 'hand wash on the faucet is ideal',\n",
              " 'ride the road to find the best area',\n",
              " 'The kid swang on the swing in the playground.',\n",
              " 'He sprayed his car with water.',\n",
              " 'She uses the sewing machine to mend the garment.',\n",
              " 'The boy came forward to hit the ball.',\n",
              " 'While sitting and talking at dinner, she smiles at his joke.',\n",
              " 'The girl rode on top of the horse.',\n",
              " 'The family opens presents on Christmas!',\n",
              " 'In the bar some girls sing different songs.',\n",
              " 'She stands in the street holding an umbrella.',\n",
              " 'People use brick and mortar to build the walls for their house.',\n",
              " 'I put the thread on the sewing machine.',\n",
              " 'The girl pours herself a glass of beer while sitting at the bar.',\n",
              " 'The surfer fell off his board when the wave hit.',\n",
              " \"The child held the woman's hand. A group of teenagers hit the front of the car. The woman held the child's hand. A chair stands on four legs.\",\n",
              " 'The face of the rock was so dry he decided to wet a towel and wash it.',\n",
              " 'The woman rides a bicycle down the street instead of walking.',\n",
              " 'The teenager made a big mess in the bathtub giving her dog a bath.',\n",
              " 'The baseball player got a hit for a single when he was last at bat.',\n",
              " 'The worker will pour and smooth concrete to make a sidewalk.',\n",
              " 'A girl will perform her routine of jumping rope.',\n",
              " 'The boy must run from one end of the court to the other to throw the ball into the hoop.',\n",
              " 'A front stage crowd dance.',\n",
              " 'The man hangs suspended outside the building to clean the windows.',\n",
              " 'A mother stands at the sink washing the dinner dishes.',\n",
              " 'The man hit the ball with the stick out of the field.',\n",
              " 'The man drinks beer while he sits at the bar.',\n",
              " 'The player scored a goal for his team.',\n",
              " 'I stood to throw the knife at the wood target and cut the apple into pieces',\n",
              " 'The owner told the dog to come, and then wait.',\n",
              " 'The player on the field kicked the football in to the goal',\n",
              " 'The woman looked at her hair while standing in front of a mirror.',\n",
              " 'While the man lifted weights, he listened to music on his iPod.',\n",
              " 'A man shuffles a deck of cards in his hands.',\n",
              " 'The officer will stand in the middle of the road to direct traffic.',\n",
              " 'I need you to hold a piece of paper in your hand for me.',\n",
              " 'The man sits on the bench to eat his delicious peaches and cream dessert.',\n",
              " 'The girl uses a rope to climb the side of the mountain.',\n",
              " 'The bowling ball rolled straight down the center of the lane and knocked down all of the pins.',\n",
              " 'The girl put her contact lens in her eye.',\n",
              " 'The man stands on the ladder to paint the wall.',\n",
              " 'The actress used a curling iron to curl her hair.',\n",
              " 'A man drills an apple on the peeler to peel it.',\n",
              " \"The woman walked her dog to water to keep it's body hydrated.\",\n",
              " 'you have to use the chisel to carve the wood and not the hammer',\n",
              " 'The entire team ran out onto the field except one player, he decided to walk.',\n",
              " 'The cowboy rides the horse in the rodeo.',\n",
              " 'The teenagers laughed at the sound of ripping a piece of paper.',\n",
              " 'Sit on the table and read the newspaper.',\n",
              " \"The Dallas Cowboys always score a field goal when the quarterback's run with the balls.\",\n",
              " 'The man wearing the shirt took the picture.',\n",
              " 'The woman parked her car on the side of the street.',\n",
              " 'The clown juggles the ball while stands in the room.',\n",
              " 'when you stand up, that shirt looks too short to wear outside',\n",
              " 'He would sit in front of the machine to sew a quilt.',\n",
              " 'The crowd will watch the man ride a horse.',\n",
              " 'The lady at the gym lifts five pound free weights.',\n",
              " 'A athlete would run track in the hurdle.',\n",
              " 'The boy demonstrates how to clean the window with a squeegee.',\n",
              " 'A little boy sat on the porch eating a piece of watermelon.',\n",
              " 'After a long day of work the women would sit at the table and drink a glass of wine.',\n",
              " 'You ride the horse around the area near the fence.',\n",
              " 'Take a piece of paper and fold it.',\n",
              " 'My son, James, wanted to sit on the couch and blow up the balloons.',\n",
              " \"The woman's hand grabbed the toy as she was sitting down in the chair.\",\n",
              " 'The boy folds a piece of cardboard and places it inside his shirt.',\n",
              " 'The Magician got in front of the crowd to perform the trick.',\n",
              " 'Her dog likes to stand and look in the snow.',\n",
              " 'I wear a hat when I ride a horse.',\n",
              " 'A young boy would use his toothbrush to brush medicine on his tooth to help his tooth ache.',\n",
              " 'A woman uses a brush to brush her hair.',\n",
              " 'The crowd watched a performed dance',\n",
              " 'The dog got sprayed with the water hose.',\n",
              " 'The girl sits on the floor to fold the clothes.',\n",
              " 'The peeling machine was used to peel an apple.',\n",
              " 'The woman continued to dance while she was holding her posing toddler.',\n",
              " 'The swim team will cheer for the person in the pool lane.',\n",
              " 'The kid jumps off the pool from the jumping board.',\n",
              " 'The young girl would sit at the table for hours to put the puzzle together.',\n",
              " 'A boy uses his hand to stop a ball from bouncing off the tennis court.',\n",
              " 'Watch him jumping from the cliff to the water',\n",
              " \"The man drove he's car up to the gas station to pump in some gas.\",\n",
              " \"The Mum needed to feed the baby it's food using a spoon before she could eat herself.\",\n",
              " 'The rider ride the camel walks across the desert.',\n",
              " 'The man holds the umbrella for the woman while walking in the rain.',\n",
              " 'A couple walked onto the floor to dance to the music.',\n",
              " 'A man sits on a bench and pours water over his body.',\n",
              " 'One child was holding the broom with a firm grip as he swept the floor.',\n",
              " 'A piece of wood breaks off from its hold on the wall.',\n",
              " 'A boy catches a fish from the river by using his net.',\n",
              " \"Let's sit down on the bench and talk about our phones.\",\n",
              " 'The boy took the mower for a ride on the track to race his friends.',\n",
              " 'The dog stood near the man in the field who was holding the leash.',\n",
              " 'a woman stands on the court holding a racket',\n",
              " 'The woman visited a spa, where she had a wax treatment to remove the hair from her leg.',\n",
              " 'Lucy stood in the bucket and smashed the grapes with her feet.',\n",
              " 'Throw the ball past the lane into the alley.',\n",
              " \"The kid slides through the slide to reach the pool's water.\",\n",
              " 'The girl will wear her jacket to walk through the snow.',\n",
              " 'The dog that ran across the grass did not wear a lead.',\n",
              " 'The couple will ride their skateboards down the road.',\n",
              " 'The boy will dig a hole in the sand at the beach.',\n",
              " 'The woman demonstrates how to apply mascara on the eyelashes.',\n",
              " 'The lady used a dryer to dry her hair.',\n",
              " 'The dog jumps up in the air in a field.',\n",
              " 'The girl lied in the table to have her leg massaged.',\n",
              " \"The girl will hold the boy's hand when they cross the street.\",\n",
              " 'The machine fills the bottle with liquid.',\n",
              " 'You are a dog you should watch me fly a kite whore.',\n",
              " 'The team celebrates after winning the game.',\n",
              " 'John wore his helmet when riding his motorcycle on the road.',\n",
              " 'The scuba diver wears scuba gear to swim in the water.',\n",
              " 'The girl will wear this outfit to perform on stage.',\n",
              " 'The massage parlour only focused on toes and would not touch your hand or even the rest of your foot.',\n",
              " 'The dog can hold the leash in his mouth.',\n",
              " 'Push the car on the street at night.',\n",
              " \"The bird will eat food from the girl's hand.\",\n",
              " 'The man watched the player in the game as the team won.',\n",
              " 'Iam going to watch my son, run his car around the track and to stop at the pit',\n",
              " 'I pick the apples from the tree and put them in the bag.',\n",
              " 'Dad uses the powerful blower to blow all of the extra leaves into a big pile.',\n",
              " \"The teacher clapped her hands to get the children's attention to sit on the floor.\",\n",
              " 'I suck the egg yolk out of the bottle.',\n",
              " 'A baseball player hits the ball and runs to the first base.',\n",
              " 'Take a break and sit on the bench',\n",
              " 'The man pulled the rope to hold the anchor of his boat out of the water.',\n",
              " 'The man used a drill to put a hole in the piece of wood.',\n",
              " 'I needed to put on my wetsuit so I could ride the the surfboard on the ocean wave.',\n",
              " 'The first thing the cooking teacher did was give her students instruction on how to sharpen a knife.',\n",
              " 'The photographer took a picture of the bride and groom.',\n",
              " 'A child chewing gum blows bubbles.',\n",
              " 'Jimmy rests his head on his hand when he sits at his desk.',\n",
              " 'The man put on a shirt to wear so that he could sit down at the restaurant table for dinner.',\n",
              " 'While sitting on the floor, the girl will wax the chair leg.',\n",
              " 'A woman uses an iron and a board to iron a shirt.',\n",
              " 'A man pulls the fish from the hole in the ice.',\n",
              " 'Please put the bowl on the table when you are finished eating the cereal.',\n",
              " 'The woman tells her friends a joke and they all laugh loudly.',\n",
              " 'At the ceremony, the priest washed one foot in water.',\n",
              " 'The teenager performed a trick while riding on his skateboard.',\n",
              " 'People use a scrub brush to clean the toilet.',\n",
              " 'The goalie blocked the shot that would have won the team the game.',\n",
              " 'The ice sculpture artist started cutting his ice block with the chainsaw.',\n",
              " 'The dog ran fast as it chased the rabbit around the track.',\n",
              " 'the man singe his shirt while speaking into the wear microphone',\n",
              " 'A kid can use a knife to carve a pumpkin and then throw pumpkin in the trash after Halloween.',\n",
              " 'The kid rode the bike down the street.',\n",
              " 'Tourists take a lot of pictures of the beautiful building.',\n",
              " 'A woman sits on the floor and examines a piece of paper.',\n",
              " 'I lifted the barbell, through it at his head, and he fell to the ground.',\n",
              " 'The archer pulled on the bow shooting the arrow  against the target butt.',\n",
              " 'The man uses his tool to carve a piece of wood.',\n",
              " 'A man throws the ball down the lane to knock all the pins down.',\n",
              " 'The girl lays her leg on the table to have it waxed.',\n",
              " 'The man blowing up balloons, likes to wear a large hat.',\n",
              " 'The girl performed her dance routine in front of the audience.',\n",
              " 'The dog pulls the sled through the snow',\n",
              " 'The children ran as they flew the kite in the field.',\n",
              " 'A boy spent the evening sitting on the couch and watching a documentary on television.',\n",
              " 'This arcade has a dart board hanging on the wall that you can throw darts at.',\n",
              " \"Give that girl a piece of paper and a pencil and she will write you a love letter; that's the kind of girl she is.\",\n",
              " 'When the worst player kicked the ball into the goal the crowd went insane.',\n",
              " 'I use a razor to trim the beard.',\n",
              " 'The coach taught the kids how to throw the ball and hold the bat.',\n",
              " \"He likes to give instructions to he's son to tie he's tie.\",\n",
              " 'When the woman lays her head down on the sink the stylist can wash her hair.',\n",
              " \"The man doesn't wear his hat while sitting on the bench in the park.\",\n",
              " 'Once he caught the ball in his hand he took a hard roll onto the pavement and broke his arm.',\n",
              " 'A boy danced around the room while listening to music.',\n",
              " 'The older man sat on the bench in front of the building.',\n",
              " 'He cuts the top of the pumpkin with a knife.',\n",
              " 'He stops his car at the cross walk to let the man cross the street.',\n",
              " 'The dog sits on a bench in the park.',\n",
              " 'The young girl chose to wear her most revealing uniform to run through the field at night to meet her lover.',\n",
              " 'A girl plays a game of chess and moves her favorite piece, the queen, in many ways across the board.',\n",
              " 'The dog is going to stand by my leg with the ball.',\n",
              " 'I ride horses and watch the dog follow squirrels.',\n",
              " 'While playing in the snow, the kid will throw a snowball.',\n",
              " 'The way I fold shirts was demonstrated to me by my mother.',\n",
              " \"A woman's pet cat laid down on the bed.\",\n",
              " 'The woman was a good horse rider and she knew if she could get her stalion to jump the fence she would have a winner for the weekend meet.',\n",
              " 'The man used a tool to pick the lock.',\n",
              " 'A rock stands in the water beside the body of a girl.',\n",
              " 'The family enjoyed spending time together sitting around the table at meal times.',\n",
              " 'A boy walks on the stage to accept his award.',\n",
              " 'as I sit in the chair, I washed the dirt off my left foot',\n",
              " 'The woman is attaching a rope to a tree in order to climb it.',\n",
              " 'A boy standing on cross street and waiting for taxi',\n",
              " 'The duck flapped its wings in order to land on the water.',\n",
              " 'I like to be in the crowd to watch volleyball at the beach',\n",
              " \"The dog's owner takes him on a walk.\",\n",
              " 'The boy stood on the line to  throw the ball to the basket in the distance.',\n",
              " 'she wears a helmet & sits on the motorcycle.',\n",
              " 'The players like to catch and throw the baseball with a mitt.',\n",
              " 'This piece of pottery was worked on the wheel at the studio.',\n",
              " 'I can demonstrate how to tie your shoe using the lace.',\n",
              " 'I like to skip a stone in the body of water.',\n",
              " 'He sat in the chair and got his shoes shined.',\n",
              " 'The actor performed a dance on stage in his costume.',\n",
              " 'we went  to the track to watch Alex jump the hurdles.',\n",
              " 'The girl will sit on the bench and wait for the bus.',\n",
              " \"A dog carrying a stick runs to it's owner.\",\n",
              " 'The team chased the ball across the field of play.',\n",
              " 'A dog eats food from a bowl.',\n",
              " 'The man looks at his cigarette and takes a puff.',\n",
              " 'A man sat with his feet on the floor to tie his shoes.',\n",
              " \"The teenager's landscaping job is to go up a ladder to trim the top of tall hedges.\",\n",
              " 'It was hard to stand outside in the could and hold a shovel in the snow.',\n",
              " 'He looks in the mirror when he shaves his face.',\n",
              " 'The woman in uniform prepares to kick the ball.',\n",
              " 'A man with a small body rides water skis.',\n",
              " 'A crowd gathers on the street and waves the flag.',\n",
              " 'The dog drinking water wears a collar.',\n",
              " 'In this game, players run across a field and kick a ball.',\n",
              " 'The young girl threw the rock and watched it skip across the water.',\n",
              " 'The man adjusts the trebuchet, increasing its weight, along the Y axis so the rocks would smash into its target, throwing heavy stones at the wall, collapsing it.',\n",
              " 'The man painted graffiti on the side of the school building.',\n",
              " 'The girl sat on the chair and had her ears pierced by the professional.',\n",
              " 'The cowboy rides a horse while while roping the calf.',\n",
              " 'The doctor told her patient that she would need to perform surgery on his back in order to stabilize his spine.',\n",
              " 'watch the ball spin as it bounces over that rope attached to the tree',\n",
              " \"So there I am at the party, standing on the second floor looking at John, so I hit the ball against his face, then I turn around and pretend it isn't me and take a leap of faith that John won't suspect of me.\",\n",
              " 'The man wearing the red shirt climbed the wall.',\n",
              " 'A boy wearing a blue shirt reads a book.',\n",
              " 'A girl holds the phone up to her ear to listen to her friend talking.',\n",
              " 'The man wore a glove while piercing his ear.',\n",
              " 'I sit in my chair and pop my balloon.',\n",
              " 'He would throw his arm back and hit the target with the axe.',\n",
              " 'The crowd will cheer when the team scores a goal.',\n",
              " 'The dog ran across the field to catch the frisbee his owner threw him.',\n",
              " 'The hair dresser had a special today only $25 for a shampoo, blow-dry, and brush out.',\n",
              " 'During football season boys eat chips while sitting on the couch.',\n",
              " 'I took my shoes off before using a brush to scrub the dirty soles of them.',\n",
              " 'The girl will stand at the podium to give the speech.',\n",
              " 'The bride and groom cut the cake today!',\n",
              " \"It's fun to sit at a table to carve a pumpkin.\",\n",
              " 'A card dealer deals cards while sitting at a table.',\n",
              " 'The special boy would sit in his highchair and eat spaghetti with his left hand, never using a fork.',\n",
              " 'The older woman had a cart to push down the street during her walk for balance.',\n",
              " 'The girl flashed the light while performing on stage.',\n",
              " 'The man walked down the street holding the flag high for all to see.',\n",
              " 'She wrapped a paper box  on the table.',\n",
              " 'The saw will cut a piece of lumber.',\n",
              " 'A worker came out to the house to cut a branch off of the tree.',\n",
              " 'The girl would both tap and beat her pen on the table.',\n",
              " 'The group of guys had to pull the boat into the water to catch fish.',\n",
              " 'A dog went to a beach for a run after drinking some water.',\n",
              " 'The soccer team forms a line to shake hands at the end of the game.',\n",
              " 'The player caught the ball to win the game for his team.',\n",
              " 'The marching band walked down teh street.',\n",
              " \"The man makes sure to put his gloves on before he can box so that he doesn't get hurt while he hits the boxing bag.\",\n",
              " 'The boy rode his bike past the front of that office building.',\n",
              " 'The gave the student instructions on how to fold the paper.',\n",
              " 'the boy wearing the green shirt kicked the ball.',\n",
              " 'A mom holds her son’s hand and jumps in the pool with him.',\n",
              " 'The family is sitting at the table when they hear a shot take place outside.',\n",
              " 'When men or women throw a stick to a dog the dog runs to fetch it.',\n",
              " 'The lady chose to sit in her car, then she decided to wear her sunglasses.',\n",
              " 'The kids like to wear goggles when they swim at the pool.',\n",
              " 'roll a piece of the dough on the baking paper using the pin they gave you.',\n",
              " 'During the polo match, the man hit the ball with a stick, during his ride on a horse.',\n",
              " 'The worker takes a lunch break at work to eat.',\n",
              " 'It is nice to drink a beer while sitting at a table talking with friends.',\n",
              " 'The man will take a walk to the park with his dog, and sit on the bench to watch the ducks.',\n",
              " 'We sit at the table to eat dinner with the family.',\n",
              " 'You should wear a shirt while cooking meat on the grill.',\n",
              " 'A man wearing a coat walks down a street holding an umbrella.',\n",
              " 'The girl stands in front of the sink and brushes her teeth.',\n",
              " 'A girl digs a hole in the ground to plant a tree.',\n",
              " 'The baseball player hit the ball, made the run to first base and scored before the other team could touch the ball.',\n",
              " 'The girl walks on the beach making footprints in the sand while holding her shoes in her hand.',\n",
              " 'The boy threw the frisbee in the air for the dog to catch.',\n",
              " 'She is trying a braid, wearing a jean & shirt & holds a wire in her hands.',\n",
              " 'The girl runs around the track and jumps over the pile of sand.',\n",
              " 'The woman found it was easier to stand and apply dye to her hair using the bathroom mirror.',\n",
              " 'The soldier taught the student how to treat a wound.',\n",
              " 'A man wears skis and holds a rope attached to a boat that pulls him.',\n",
              " 'The pitcher throws the ball to the batter in the game of baseball.',\n",
              " 'A man picks up a barbell to workout, drops it on the ground. He picks it up again and lift it over his head.',\n",
              " 'The individual model walks the ramp wearing the attire and a hat.',\n",
              " 'I saw someone perform a trick in front of me by swallowing a sword.',\n",
              " 'The crowd at the front of the stage watched the band perform.',\n",
              " 'The man would look silly wearing a suit to climb up a mountain.',\n",
              " 'You can walk easily in the streets if the cars are parked in the building courtyard.',\n",
              " 'The boy sits in his chair and eats the food in his bowl.',\n",
              " 'The man was sitting in the chair, clapping his hands while talking about his crazy day.',\n",
              " 'A girl blows and pops bubbles while chewing her gum.',\n",
              " 'The bridesmaid wears a dress and helps the bride receive the ring.',\n",
              " 'stand near the river and throw the object into the water',\n",
              " 'The dog runs on the grass and catches the ball in its mouth.',\n",
              " 'A man drives his car down the street between the yellow center line and the white side line.',\n",
              " 'Discuss the way hoe we can protect our phone from  water shedding.',\n",
              " 'The owner throws the ball so his dog can chase it.',\n",
              " 'A man uses his arm to pull down a cable in the gym while performing exercise.',\n",
              " 'A couple hold hands while walking down the street.',\n",
              " 'We discuss the type of pipe to use instead of wood.',\n",
              " 'hands must be washed in sink with soap and water before returning to work',\n",
              " 'A boy holds deck of cards in his hand and is ready to shuffle them.',\n",
              " 'The woman stood at the microphone at the front of the stage and began to sing to the audience sitting in the stadium.',\n",
              " 'The man poured oil into the motorcycle sitting on the floor.',\n",
              " 'The teenage girl stood a the table eating watermelon with her hands.',\n",
              " 'The man was using a leaf blower to blow the leaves into a pile in the yard.',\n",
              " 'A boy falls riding his bike when he tried to jump on a ramp.',\n",
              " 'The girl says that faces start laughing as the feet stick together and fall.',\n",
              " 'The man threw the ball down the lane to knock down all of the pins.',\n",
              " 'Take the boy to the place with the concert and watch the band on the stage.',\n",
              " 'The dog performs tricks in the field with a frisbee.',\n",
              " 'The man wears a hood as he stands and covers a wall with graffiti.',\n",
              " 'The dogs jumped in the water and held the stick in his mouth.',\n",
              " 'The man wears a shirt whilst he drinks his glass of beer.',\n",
              " 'The boy blew out the candles on his birthday cake after his parents sang Happy Birthday.',\n",
              " 'The bartender picks the bottle and toss it and pour the drink in the glass.',\n",
              " 'The woman took a break from her ride in her car to stop at a rest stop to check her phone.',\n",
              " 'I picked an apple from the tree and put it in my bag.',\n",
              " 'A teenager was about to take his turn, when he shoot the ball towards the net.',\n",
              " 'We played a game on the movie clip, it was called follow the graphic number!',\n",
              " 'A girl ride a bike and wear a shirt and a helmet',\n",
              " 'For clean hands, run hands under the tap and use water to rinse hands.',\n",
              " 'A man wore the mask while he painted the wall with the roller.',\n",
              " 'The woman holds the empty water bottle under the machine to fill it with liquid.',\n",
              " 'A man sits holding an instrument in his hands and blows it.',\n",
              " 'The locksmith holds the pick in one hand and uses the tool to open the lock.',\n",
              " 'The man stands by a flag holds his gun and shoots.',\n",
              " 'The student laughed when the piece of paper ripped when sitting down.',\n",
              " 'The dog hurt his leg trying to catch a ball and now he cannot stand on it.',\n",
              " 'The woman who pierces ears should wear protective gloves and have the person sit when piercing ears..',\n",
              " 'Sit in the chair to get your hair cut with clippers.',\n",
              " 'A boy holding a racket hits a ball across the room.',\n",
              " 'At the dealer table, I made a deal, and i put all my chips in for a certian card.',\n",
              " 'A goalie moves backwards in a football practice to protect his net from goal.',\n",
              " 'The alligator liked to sit and hold its mouth open on top of the water.',\n",
              " 'The boy stops and looks for cars before using the crosswalk to cross the street.',\n",
              " 'The surfer rides the wave in the ocean by standing on a surfboard.',\n",
              " 'Begin dinner by pouring the ingredients into the pot and stir.',\n",
              " 'The wicket keeper wears the mitt and catches the ball after the ball hit the helmet.',\n",
              " \"James is climbing on a ladder to clean the gutter of John's house.\",\n",
              " 'When I walked into the room a man was standing at the front to give a report on his sales, he was using a pointer to point out current sale percentages on the screen.',\n",
              " 'the toddler in the room walks towards his toys to hold them.',\n",
              " 'The man drives a truck down the street while he picks up trash from different houses.',\n",
              " 'The children sit on the floor and build a huge house of cards.',\n",
              " 'The teenager hit his ball in the range of 20 feet while music played in the background.',\n",
              " 'The boy throws the item and it knocks the card off the table.',\n",
              " 'Grandfather sat on the couch and turned the newspaper pages, reading the classifieds.',\n",
              " 'The boy can continue to watch them hit the ball from the side line.',\n",
              " 'The surfer went to the beach on a sunny day to surf the waves.',\n",
              " 'The big brother helped the toddler push the cart to the store.',\n",
              " 'A saw a teacher stand in front of a class and not move.',\n",
              " 'The workers wear vests when they work on the train.',\n",
              " 'The girl holds an object in her hand and wears a blue shirt.',\n",
              " 'a boy demonstrates how to use a machine instead of using a needle to sew and thread.',\n",
              " 'A kid throws a bunch of balls on the field.',\n",
              " 'they were playing with ludo board using dice and moving the piece of dolls when their roll come',\n",
              " 'At the football game, the crowd cheered when the touchdown took place.',\n",
              " 'To shoot an arrow you need to prepare the bow so that it reaches the target.',\n",
              " 'The chairman gave an award while standing at the podium and talking to the audience.',\n",
              " 'I hold a book with the sign of peace on the cover and reading it which teaches me a lot.',\n",
              " 'The coach is holding the ball and turns it slightly to throw into the circle as target',\n",
              " 'The youth bang their heads as they listen to the beats of the music.',\n",
              " 'One can cut and hold a piece of wood with the saw.',\n",
              " 'The kids solved disagreements by playing the game rock, paper, scissors.',\n",
              " 'The kid stood in line for the ride while I chose to sit on the bench.',\n",
              " 'The woman uses her brush to apply makeup to her face.',\n",
              " 'The woman performs triceps exercises at the gym by pushing a weight over her head.',\n",
              " 'The mother laughs at the little girl sitting on the floor and eating chips',\n",
              " 'A pretty lady uses her cellphone to sit and talk on the step.',\n",
              " 'A man poured a beer into a glass from the tap in a bar',\n",
              " 'Hold the animal down while I get the stuff to pierce her ear.',\n",
              " 'The conductor asked to begin the music so the dance floor would stand at attention.',\n",
              " 'She has to hold the fork with her hand to eat the spaghetti',\n",
              " \"The tree was standing while the sun shone on it's leaves.\",\n",
              " 'A boy wears goggles when swimming in a pool of water',\n",
              " 'Stir the food in the fry pan with a spatula.',\n",
              " 'A cowboy at the rodeo took a ride on a bronco, which proceeded to buck him off.',\n",
              " 'The man wears a mask while he holds the banner and his friend holds a sign.',\n",
              " 'The kid was told to stand by the fence while he fed the goat.',\n",
              " 'The band consists of a drummer and guitarist who will perform tonight.',\n",
              " 'He used the drill to drill a hole into a piece of wood.',\n",
              " 'The woman carrying her purse walked in front of the building.',\n",
              " 'The produce vendor in the market sells fruits and vegetables.',\n",
              " 'The girl climbed up the rope in order to throw the ball into the open air.',\n",
              " 'A boy goes to the gym to pull some weights and use other exercise machines.',\n",
              " 'The fruit in juice prevents and treats oxidation.',\n",
              " 'The bench in front of the building is a place groups like to gather to sit or stand.',\n",
              " 'She took a drink from the cup then vomited in the sink',\n",
              " 'The front of the gym had people lifting in front of the mirrors using weights.',\n",
              " 'The skateboarder jumped over the ramp and tore the shirt he wore that day.',\n",
              " 'The calf was tied up with rope at the rodeo by a man riding a horse.',\n",
              " 'As the man continued creating his dance the man chose to end it by holding his final pose.',\n",
              " 'The player hit the ball and tried to slide to home base, but the catcher was able to tag him.',\n",
              " 'A boy stands in the basketball court tossing a ball against the wall.',\n",
              " 'The worker had to pull his chair across the floor to sit and use his sander.',\n",
              " 'A player used his right hand to hold a dart and throw it at a board in the pub.',\n",
              " 'The basketball team likes to pass ball before every game.',\n",
              " 'A dog jumped the fence to catch a bird in its mouth.',\n",
              " 'Steadily holding the knife in hand, Sarah peeled the rind from the orange.',\n",
              " 'A man cuts pineapple using a knife by playing music in the background',\n",
              " 'While you stand, close your eye to solve the cube.',\n",
              " 'A young girl is holding a book, after she finished reading, she turned the page.',\n",
              " 'The boxer loves to wear his boxing gloves at the gym, he hits the boxing bags to prepare for boxing match.',\n",
              " 'I ride on my scooter and out of nowhere a passerby swings a punch that knocks me off and I land on my bag',\n",
              " 'The box had a key attached to it for the man to open and use the contents as directed.',\n",
              " 'The athlete  will run around the track and leap over the hurdle.',\n",
              " 'A boy wearing red shoes drinks water  opening a bottle and hits the wall using the empty bottle to hear the sounds.',\n",
              " 'A teenager demonstrated that he knew how to shift gears while driving a car.',\n",
              " 'A boy sat at the table and used a pen to beat on it like a drum.',\n",
              " \"There is shaving cream in the bathroom to help shave grandpa's head with the razor.\",\n",
              " 'The teacher explained the steps of how to fold a piece of paper.',\n",
              " 'A bird landed on the water to catch a fish.',\n",
              " 'We hit the ball with a good swing from the golf club on the course today.',\n",
              " 'The artist used the chisel and hammer to carve the piece of wood into a work of art.',\n",
              " 'The lady wore her dress and shoes while sitting at the table.',\n",
              " 'A woman looks in the mirror and irons her hair to curl it.',\n",
              " 'The dog jumped on the counter to eat the food placed there.',\n",
              " 'The cowboy carries a Mexican flag while riding a horse in the arena.',\n",
              " 'The man likes to smoke hookah, he watches the smoke fill the room as he blows it out of his mouth.',\n",
              " 'A man against a fence attempts to fight using a stick against another man who threw a knife at him.',\n",
              " 'We walk down the trail admiring the background of mountains covered in snow.',\n",
              " 'The grandmother demonstrates to the children the technique used to knit with yarn and a needle.',\n",
              " 'The worker wear a hat to dig the hole.',\n",
              " 'I use markers to color the map of my country.',\n",
              " 'The teen stands looking at the water below the cliff edge, ready to jump.',\n",
              " 'The man wears a jacket as he walks down the street and carries a bag.',\n",
              " 'The girls pressed the button and inserted a coin into the machine.',\n",
              " 'The lady takes the wash out of the washer and hangs them out the buildings window to dry.',\n",
              " \"At the front, the soldier's hat and jacket stand on a mound of dirt, making the items too dirty to wear.\",\n",
              " 'The kids dance to music on stage in front of an audience.',\n",
              " 'A crowd had started to gather around the woman and her son as they watched a man dressed as a clown juggle three fire sticks on the side of the street.',\n",
              " 'The dog holds the rope in his teeth and is up in the air.',\n",
              " 'I attempt to pick up a piece of my clothing off the floor and fold it neatly',\n",
              " 'The officer directed traffic by blowing the whistle.',\n",
              " 'The ladies use the yoga ball and rope for sitting exercises during the gym fitness class.',\n",
              " 'The musician hit the gong with a mallet while standing in front of the audience.',\n",
              " 'The girl gymnast begins her routine and performs a jump on the beam.',\n",
              " 'I went to a farm with animals, and while i was there i saw a guy catch a horse with a lasso and then ride it.',\n",
              " 'She rubbed her hair in his face as he stuck out his tongue.',\n",
              " 'The children stand around Grandpa in the kitchen as he would flip the pancake into the pan with ease.',\n",
              " 'Sit next to the piano, hit the key, and smile.',\n",
              " 'The dog walks from the fireplace to the table as the family plays the game.',\n",
              " 'A couple was sitting on a bench tying balloons together.',\n",
              " 'The chef will use a bottle to separate the egg yolk from the white.',\n",
              " 'The family walks down the track with their dog in the winter.',\n",
              " 'The car holds a kid who is wearing his sunglass listening to dance music.',\n",
              " 'A polo player rides a horse on the field and hits the ball with a mallet.',\n",
              " 'The kid looked at the goldfish that flipped out of the water and fell on the floor.',\n",
              " 'He comes to work with a bag. He is a machine worker. After he is done with work, he collects money & leaves.',\n",
              " 'Standing on top of the mountain, the girl raised their arms up in the air.',\n",
              " 'The girls sat and read a book about what to wear, he though a shirt would look nice.',\n",
              " 'The man stands in yard in the evenings spraying water on the grass with the a hose.',\n",
              " \"The boy's dog carried a toy in his mouth while they walked.\",\n",
              " 'The gymnast continued to flip and jump from side to side until she ended her routine.',\n",
              " 'The kids were talking about school while building a sand castle on the beach.',\n",
              " 'The kids gather leaves and put them into bags.',\n",
              " 'In a drum set you sit and hit the cymbal with the stick.',\n",
              " 'I sit down at the the table to beat or tap on my music machine.',\n",
              " 'The neighbor gave the kid a balloon for running and throwing the dog toy back in the yard.',\n",
              " 'The woman was hired to clean the gutter people use every day. A bird can stand on a roof and sing for a long time..',\n",
              " 'The man used his hand to press and hold the control button.',\n",
              " 'I need a sharpener to sharpen the blunt pencil I hold in my hand',\n",
              " 'A couple at the beach holds hands and looks at the water.',\n",
              " 'The girl begins to brush the front of her hair in front of the mirror.',\n",
              " 'The players wearing jerseys hold their sticks as they stand near the stadium.',\n",
              " 'The man used a knife to cut a piece of meat from the roast.',\n",
              " 'In the morning, I wash up, brush my hair, shave and check my tooth.',\n",
              " 'A chef cuts a piece of tomato on the board.',\n",
              " 'The athlete runs down the field to throw the javelin.',\n",
              " 'The man demonstrated how to cook scrambled eggs in a pan.',\n",
              " 'The dogs pulls for a snow sled team.',\n",
              " 'The barber uses clippers to cut hair and shave heads.',\n",
              " 'My grandpa uses tools to cut blocks of wood.',\n",
              " 'Boys like to surf the waves at the shore, before the water crashes.',\n",
              " 'The boy ran the ball up to the hoop to jump up and make his first slam dunk.',\n",
              " 'The dog attempts to climb the ladder to follow the man onto the roof.',\n",
              " 'The kid loved watching the fish swim in the big tank.',\n",
              " 'The man demonstrates how to use the gauge to check the pressure.',\n",
              " 'A machine worker wears a mask while welding a piece of a gear and metal together.',\n",
              " 'A young girl throws a baton in the air and spins while she performs her dance routine.',\n",
              " 'a worker holds a shovel in his hand while examining his field of vegetables',\n",
              " 'The boy threw a ball at the wall, but it bounced off and hit him which made him fall to the ground.',\n",
              " 'The woman use a bottle to crack an egg yolk and put in a bowl.',\n",
              " 'A girl listened to music while using a hand to pick fruit from a tree.',\n",
              " 'The dog was sitting on the couch watching television with the boy.',\n",
              " 'The person built a fire to roast a pig and turn it with a stick.',\n",
              " 'My hand shakes at the silhouette of the world on the map.',\n",
              " 'The man demonstrates how the small drill works as a peeler as he peels the apple.',\n",
              " 'The coach stands on the field to watch the player as he interacts with the team.',\n",
              " 'A group of teenagers eat some food that they picked by hand and then put into their mouth.',\n",
              " '\"A woman writes the word pepper on a piece of paper.\"',\n",
              " 'If you stand your body at the right angle, you can skip rocks across water.',\n",
              " 'A woman arches her back while standing on an object against the wall and next to a window.',\n",
              " 'The traffic police directs the car driver not to stand in the middle of the street blocking the way.',\n",
              " 'The bird eats the food from the cup that is the owner is holding.',\n",
              " 'The boy runs to catch the ball before it falls on the ground.',\n",
              " 'The dog was running on the track wearing a number.',\n",
              " 'I am used to take a couple of strolls with my friend cain',\n",
              " 'A man cracks an egg into a pot and then adds some butter.',\n",
              " 'I will burn you with a tool with a design of a piece of wood on it.',\n",
              " 'The girl was excited to wear a new dress while performing in front of the audience.',\n",
              " 'The man drives the car past the pedestrian crossing in front of him on the road.',\n",
              " 'A customer watches the restaurant employee prepare the food.',\n",
              " 'The man stands near the bank and casts a line into the water to catch fish.',\n",
              " 'The girl gives a dog a treat to teach him how to sit.',\n",
              " 'My sister wears Apron while cooking and frying in the pan especially sausages.',\n",
              " 'The woman cooks the vegetables in the pan on a stove and puts the vegetables on top of the meat.',\n",
              " 'The man wore a glove on his hand to open the oyster.',\n",
              " 'The man will stand next to the gas pump and hold the nozzle in his car to fill it with gas.',\n",
              " 'The group of children pushed the wheelbarrow up the hill and then fell and sat at the bottom.',\n",
              " 'The girl begins to dance and perform a routine full of stunts and tricks.',\n",
              " 'A farmer holds a razor he used to shave wool off a sheep',\n",
              " 'The dance was performed on stage by professionals, wearing elaborate costumes.']"
            ]
          },
          "metadata": {
            "tags": []
          },
          "execution_count": 59
        }
      ]
    },
    {
      "cell_type": "markdown",
      "metadata": {
        "id": "YlOkwx2g5RTb"
      },
      "source": [
        "## Clean generated text"
      ]
    },
    {
      "cell_type": "code",
      "metadata": {
        "colab": {
          "base_uri": "https://localhost:8080/",
          "height": 36
        },
        "id": "aOH7SoSdrsH4",
        "outputId": "57fd5e78-41af-41bc-f85d-f2eb2c1215e9"
      },
      "source": [
        "# Clean validation greedy sampling generation\n",
        "data_file = \"sample_data/greedy_validation_set.txt\"\n",
        "greedy_generated_data = []\n",
        "\n",
        "with open(data_file, 'r') as f:\n",
        "  for i, line in enumerate(f):\n",
        "    line = line.strip()\n",
        "    example = line.split()\n",
        "    new_example = []\n",
        "    for word in example:\n",
        "      if word.startswith(\"[unused\") or word.startswith(\"[UNK]\") or word.startswith(\".\") or word.startswith(\"\\\\\") or word.startswith(\"##\"):\n",
        "        del word\n",
        "      else:\n",
        "        new_example.append(word)\n",
        "\n",
        "    complete_sentence = \" \".join(new_example) + \".\"\n",
        "    greedy_generated_data.append(complete_sentence)\n",
        "\n",
        "greedy_generated_data[0]"
      ],
      "execution_count": 186,
      "outputs": [
        {
          "output_type": "execute_result",
          "data": {
            "application/vnd.google.colaboratory.intrinsic+json": {
              "type": "string"
            },
            "text/plain": [
              "'the two beautiful white black sheep that are standing out and grazing close up together together in a blue green grassy field standing together.'"
            ]
          },
          "metadata": {
            "tags": []
          },
          "execution_count": 186
        }
      ]
    },
    {
      "cell_type": "code",
      "metadata": {
        "colab": {
          "base_uri": "https://localhost:8080/",
          "height": 53
        },
        "id": "GZASUmZt1E_J",
        "outputId": "a30c77f4-da9b-4431-e217-6600afb888ba"
      },
      "source": [
        "# Clean validation top-k generation\n",
        "data_file = \"sample_data/sampling_validation_set.txt\"\n",
        "sampling_generated_data = []\n",
        "\n",
        "with open(data_file, 'r') as f:\n",
        "  for i, line in enumerate(f):\n",
        "    line = line.strip()\n",
        "    example = line.split()\n",
        "    new_example = []\n",
        "    for word in example:\n",
        "      if word.startswith(\"[unused\") or word.startswith(\"[UNK]\") or word.startswith(\".\") or word.startswith(\"\\\\\") or word.startswith(\"##\"):\n",
        "        del word\n",
        "      else:\n",
        "        new_example.append(word)\n",
        "\n",
        "    complete_sentence = \" \".join(new_example) + \".\"\n",
        "    sampling_generated_data.append(complete_sentence)\n",
        "\n",
        "sampling_generated_data[0]"
      ],
      "execution_count": 187,
      "outputs": [
        {
          "output_type": "execute_result",
          "data": {
            "application/vnd.google.colaboratory.intrinsic+json": {
              "type": "string"
            },
            "text/plain": [
              "'a small herd affiliates of white sheep are standing together in a green field together , with the two large black elephants moving like that they really look metacritic like people.'"
            ]
          },
          "metadata": {
            "tags": []
          },
          "execution_count": 187
        }
      ]
    },
    {
      "cell_type": "code",
      "metadata": {
        "colab": {
          "base_uri": "https://localhost:8080/",
          "height": 53
        },
        "id": "rOxrVBIAWzWs",
        "outputId": "eacd3dad-f1e2-49b2-909b-389b49ab4e25"
      },
      "source": [
        "# Clean test top-k generation\n",
        "data_file = \"sample_data/sampling_test_set.txt\"\n",
        "test_sampling_generated_data = []\n",
        "\n",
        "with open(data_file, 'r') as f:\n",
        "  for i, line in enumerate(f):\n",
        "    line = line.strip()\n",
        "    example = line.split()\n",
        "    new_example = []\n",
        "    for word in example:\n",
        "      if word.startswith(\"[unused\") or word.startswith(\"[UNK]\") or word.startswith(\".\") or word.startswith(\"\\\\\") or word.startswith(\"##\"):\n",
        "        del word\n",
        "      else:\n",
        "        new_example.append(word)\n",
        "\n",
        "    complete_sentence = \" \".join(new_example) + \".\"\n",
        "    test_sampling_generated_data.append(complete_sentence)\n",
        "\n",
        "test_sampling_generated_data[0]"
      ],
      "execution_count": 228,
      "outputs": [
        {
          "output_type": "execute_result",
          "data": {
            "application/vnd.google.colaboratory.intrinsic+json": {
              "type": "string"
            },
            "text/plain": [
              "'young football players gather together to perform in an event a brand new fire drill , before someone running about frantically around city on the huge soccer field.'"
            ]
          },
          "metadata": {
            "tags": []
          },
          "execution_count": 228
        }
      ]
    },
    {
      "cell_type": "markdown",
      "metadata": {
        "id": "ATg75nn6TCC4"
      },
      "source": [
        "# Compute metrics\n"
      ]
    },
    {
      "cell_type": "markdown",
      "metadata": {
        "id": "ATGoys8IU7Kp"
      },
      "source": [
        "## Lexical (ROUGE 1/2/L, BLEU, Meteor), "
      ]
    },
    {
      "cell_type": "code",
      "metadata": {
        "colab": {
          "base_uri": "https://localhost:8080/"
        },
        "id": "R_YQvSDIakhB",
        "outputId": "6414985c-f8a8-4091-c760-7bda18186897"
      },
      "source": [
        "from datasets import list_metrics, load_metric\n",
        "import numpy as np\n",
        "\n",
        "metrics_list = list_metrics()\n",
        "print(metrics_list)"
      ],
      "execution_count": 64,
      "outputs": [
        {
          "output_type": "stream",
          "text": [
            "['accuracy', 'bertscore', 'bleu', 'bleurt', 'cer', 'comet', 'coval', 'cuad', 'f1', 'gleu', 'glue', 'indic_glue', 'matthews_correlation', 'meteor', 'pearsonr', 'precision', 'recall', 'rouge', 'sacrebleu', 'sari', 'seqeval', 'spearmanr', 'squad', 'squad_v2', 'super_glue', 'wer', 'xnli']\n"
          ],
          "name": "stdout"
        }
      ]
    },
    {
      "cell_type": "code",
      "metadata": {
        "id": "sz0g5nqK8hDS"
      },
      "source": [
        "rouge_scorer = load_metric(\"rouge\")\n",
        "sacrebleu_scorer = load_metric(\"sacrebleu\")\n",
        "meteor_scorer = load_metric(\"meteor\")"
      ],
      "execution_count": null,
      "outputs": []
    },
    {
      "cell_type": "code",
      "metadata": {
        "colab": {
          "base_uri": "https://localhost:8080/"
        },
        "id": "39EJSQPNb50k",
        "outputId": "1788e239-d8c9-4f4b-e6cc-9b2dd103c435"
      },
      "source": [
        "# ROUGE\n",
        "greedy_rouge_results = rouge_scorer.compute(\n",
        "    predictions=greedy_generated_data,\n",
        "    references=validation_data['target'],\n",
        "    rouge_types=[\"rouge1\", \"rouge2\", \"rougeL\"],\n",
        "    use_agregator=True, use_stemmer=False,\n",
        ")\n",
        "\n",
        "print(\"Greedy rouge1\", round(greedy_rouge_results['rouge1'].mid.fmeasure, 4))\n",
        "print(\"Greedy rouge2\", round(greedy_rouge_results['rouge2'].mid.fmeasure, 4))\n",
        "print(\"Greedy rougeL\", round(greedy_rouge_results['rougeL'].mid.fmeasure, 4))\n",
        "\n",
        "\n",
        "sampling_rouge_results = rouge_scorer.compute(\n",
        "    predictions=sampling_generated_data,\n",
        "    references=validation_data['target'],\n",
        "    rouge_types=[\"rouge1\", \"rouge2\", \"rougeL\"],\n",
        "    use_agregator=True, use_stemmer=False,\n",
        ")\n",
        "\n",
        "print(\"Sampling rouge1\", round(sampling_rouge_results['rouge1'].mid.fmeasure, 4))\n",
        "print(\"Sampling rouge2\", round(sampling_rouge_results['rouge2'].mid.fmeasure, 4))\n",
        "print(\"Sampling rougeL\", round(sampling_rouge_results['rougeL'].mid.fmeasure, 4))"
      ],
      "execution_count": 66,
      "outputs": [
        {
          "output_type": "stream",
          "text": [
            "Greedy rouge1 0.1376\n",
            "Greedy rouge2 0.008\n",
            "Greedy rougeL 0.1093\n",
            "Sampling rouge1 0.1401\n",
            "Sampling rouge2 0.0066\n",
            "Sampling rougeL 0.1065\n"
          ],
          "name": "stdout"
        }
      ]
    },
    {
      "cell_type": "code",
      "metadata": {
        "colab": {
          "base_uri": "https://localhost:8080/"
        },
        "id": "u-D0Ej7n8CUb",
        "outputId": "f8625db2-ffca-4c39-dfd6-f9c29017216e"
      },
      "source": [
        "# BLEU\n",
        "\n",
        "greedy_bleu_results = []\n",
        "for i, sentence in enumerate(zip(greedy_generated_data, validation_data)):\n",
        "  greedy_bleu_result = sacrebleu_scorer.compute(\n",
        "      predictions=[greedy_generated_data[0]],\n",
        "      references=[[validation_data['target'][0]]]\n",
        "  )\n",
        "  greedy_bleu_results.append(greedy_bleu_result[\"score\"])\n",
        "\n",
        "sampling_bleu_results = []\n",
        "for i, sentence in enumerate(zip(greedy_generated_data, validation_data)):\n",
        "  sampling_bleu_result = sacrebleu_scorer.compute(\n",
        "      predictions=[sampling_generated_data[0]],\n",
        "      references=[[validation_data['target'][0]]]\n",
        "  )\n",
        "  sampling_bleu_results.append(sampling_bleu_result[\"score\"])\n",
        "\n",
        "greedy_bleu_mean = np.mean(greedy_bleu_results)\n",
        "sampling_bleu_mean = np.mean(sampling_bleu_results)\n",
        "\n",
        "print(\"Greedy BLEU mean\", greedy_bleu_mean)\n",
        "print(\"Sampling BLEU mean\", sampling_bleu_mean)\n"
      ],
      "execution_count": 67,
      "outputs": [
        {
          "output_type": "stream",
          "text": [
            "Greedy BLEU mean 2.1300733682208985\n",
            "Sampling BLEU mean 1.6404472625060695\n"
          ],
          "name": "stdout"
        }
      ]
    },
    {
      "cell_type": "code",
      "metadata": {
        "colab": {
          "base_uri": "https://localhost:8080/"
        },
        "id": "X30Tv4jat8i4",
        "outputId": "e14d3818-3b72-4097-eaa8-71c2c3faeb3e"
      },
      "source": [
        "# METEOR\n",
        "greedy_meteor_results = meteor_scorer.compute(\n",
        "    predictions=greedy_generated_data,\n",
        "    references=validation_data['target']\n",
        ")\n",
        "\n",
        "sampling_meteor_results = meteor_scorer.compute(\n",
        "    predictions=sampling_generated_data,\n",
        "    references=validation_data['target']\n",
        ")\n",
        "\n",
        "print(\"Greedy meteor\", round(greedy_meteor_results['meteor'], 4))\n",
        "print(\"Sampling meteor\", round(sampling_meteor_results['meteor'], 4))"
      ],
      "execution_count": 68,
      "outputs": [
        {
          "output_type": "stream",
          "text": [
            "Greedy meteor 0.1229\n",
            "Sampling meteor 0.1305\n"
          ],
          "name": "stdout"
        }
      ]
    },
    {
      "cell_type": "markdown",
      "metadata": {
        "id": "_7fB2588VF5g"
      },
      "source": [
        " ## Semantic (BERTscore, BLEURT)"
      ]
    },
    {
      "cell_type": "code",
      "metadata": {
        "id": "Ao8KhdBe8J0Q"
      },
      "source": [
        "import numpy as np\n",
        "\n",
        "bleurt_scorer = load_metric(\"bleurt\")\n",
        "bertscore_scorer = load_metric(\"bertscore\")"
      ],
      "execution_count": null,
      "outputs": []
    },
    {
      "cell_type": "code",
      "metadata": {
        "id": "yzUJ5RXbVL8q"
      },
      "source": [
        "# BLEURT\n",
        "\n",
        "greedy_bleurt_results = bleurt_scorer.compute(\n",
        "    predictions=greedy_generated_data,\n",
        "    references=validation_data['target']\n",
        ")\n",
        "sampling_bleurt_results = bleurt_scorer.compute(\n",
        "    predictions=sampling_generated_data,\n",
        "    references=validation_data['target']\n",
        ")"
      ],
      "execution_count": null,
      "outputs": []
    },
    {
      "cell_type": "code",
      "metadata": {
        "colab": {
          "base_uri": "https://localhost:8080/"
        },
        "id": "SOESfZvPHfm5",
        "outputId": "ca212926-4ea3-4a39-a309-c501a65f602c"
      },
      "source": [
        "greedy_bleurt_mean = np.mean(greedy_bleurt_results['scores'])\n",
        "sampling_bleurt_mean = np.mean(sampling_bleurt_results['scores'])\n",
        "\n",
        "print(\"Greedy bleurt mean\", greedy_bleurt_mean)\n",
        "print(\"Sampling bleurt mean\", sampling_bleurt_mean)"
      ],
      "execution_count": null,
      "outputs": [
        {
          "output_type": "stream",
          "text": [
            "Greedy bleurt mean -1.4129384312542363\n",
            "Sampling bleurt mean -1.4204461984523953\n"
          ],
          "name": "stdout"
        }
      ]
    },
    {
      "cell_type": "code",
      "metadata": {
        "id": "SdOfK_rsu2XO"
      },
      "source": [
        "# BERTscore\n",
        "\n",
        "greedy_bertscore_results = bertscore_scorer.compute(\n",
        "    predictions=greedy_generated_data,\n",
        "    references=validation_data['target'],\n",
        "    lang=\"en\"\n",
        ")\n",
        "\n",
        "sampling_bertscore_results = bertscore_scorer.compute(\n",
        "    predictions=sampling_generated_data,\n",
        "    references=validation_data['target'],\n",
        "    lang=\"en\"\n",
        ")"
      ],
      "execution_count": null,
      "outputs": []
    },
    {
      "cell_type": "code",
      "metadata": {
        "colab": {
          "base_uri": "https://localhost:8080/"
        },
        "id": "hRrJ3KlaCFMw",
        "outputId": "7578409b-90ff-4f8f-c748-3cb8915b823f"
      },
      "source": [
        "greedy_bertscore_f1_mean = np.mean(greedy_bertscore_results['f1'])\n",
        "greedy_bertscore_precision_mean = np.mean(greedy_bertscore_results['precision'])\n",
        "greedy_bertscore_recall_mean = np.mean(greedy_bertscore_results['recall'])\n",
        "\n",
        "sampling_bertscore_f1_mean = np.mean(sampling_bertscore_results['f1'])\n",
        "sampling_bertscore_precision_mean = np.mean(sampling_bertscore_results['precision'])\n",
        "sampling_bertscore_recall_mean = np.mean(sampling_bertscore_results['recall'])\n",
        "\n",
        "print(\"Greedy F1 mean\", round(greedy_bertscore_f1_mean, 4))\n",
        "print(\"Greedy precision mean\", round(greedy_bertscore_precision_mean, 4))\n",
        "print(\"Greedy recall mean\", round(greedy_bertscore_recall_mean, 4))\n",
        "\n",
        "print(\"Sampling F1 mean\", round(sampling_bertscore_f1_mean, 4))\n",
        "print(\"Sampling precision mean\", round(sampling_bertscore_precision_mean, 4))\n",
        "print(\"Sampling recall mean\", round(sampling_bertscore_recall_mean, 4))\n"
      ],
      "execution_count": null,
      "outputs": [
        {
          "output_type": "stream",
          "text": [
            "Greedy F1 mean 0.8422\n",
            "Greedy precision mean 0.8222\n",
            "Greedy recall mean 0.8638\n",
            "Sampling F1 mean 0.84\n",
            "Sampling precision mean 0.8174\n",
            "Sampling recall mean 0.8644\n"
          ],
          "name": "stdout"
        }
      ]
    },
    {
      "cell_type": "markdown",
      "metadata": {
        "id": "VTLXGJw2VMUh"
      },
      "source": [
        "## Diversity (MSTTR, Distinct 1/2/3, Unique 1/2/3, Entropy 1/2/3)\n"
      ]
    },
    {
      "cell_type": "code",
      "metadata": {
        "colab": {
          "base_uri": "https://localhost:8080/"
        },
        "id": "rltaep1s_tsb",
        "outputId": "bac0da23-f59f-423b-bad9-44af911a2fd8"
      },
      "source": [
        "# Mean segmental Type-Token Ratio (MSTTR)\n",
        "from lexical_diversity import lex_div as ld\n",
        "\n",
        "greedy_msttr_results = []\n",
        "for i, sentence in enumerate(greedy_generated_data):\n",
        "  greedy_flt = ld.flemmatize(greedy_generated_data[i])\n",
        "  greedy_msttr_result = ld.msttr(greedy_flt)\n",
        "  greedy_msttr_results.append(greedy_msttr_result)\n",
        "\n",
        "sampling_msttr_results = []\n",
        "for i, sentence in enumerate(sampling_generated_data):\n",
        "  sampling_flt = ld.flemmatize(sampling_generated_data[i])\n",
        "  sampling_msttr_result = ld.msttr(sampling_flt)\n",
        "  sampling_msttr_results.append(sampling_msttr_result)\n",
        "\n",
        "\n",
        "greedy_msttr_mean = np.mean(greedy_msttr_results)\n",
        "sampling_msttr_mean = np.mean(sampling_msttr_results)\n",
        "\n",
        "print(\"Greedy MSTTR mean\", greedy_msttr_mean)\n",
        "print(\"Sampling MSTTR \", sampling_msttr_mean)"
      ],
      "execution_count": null,
      "outputs": [
        {
          "output_type": "stream",
          "text": [
            "Greedy MSTTR mean 0.858626420024929\n",
            "Sampling MSTTR  0.8777432256673694\n"
          ],
          "name": "stdout"
        }
      ]
    },
    {
      "cell_type": "code",
      "metadata": {
        "colab": {
          "base_uri": "https://localhost:8080/"
        },
        "id": "ejrWdcVnVP-5",
        "outputId": "7811d010-3e99-4ee6-e7e0-e3556b2d0fab"
      },
      "source": [
        "# Distinct-n\n",
        "from distinct_n import distinct_n_corpus_level\n",
        "\n",
        "greedy_distinct_1_results = distinct_n_corpus_level(greedy_generated_data, 1)\n",
        "sampling_distinct_1_results = distinct_n_corpus_level(sampling_generated_data, 1)\n",
        "\n",
        "greedy_distinct_2_results = distinct_n_corpus_level(greedy_generated_data, 2)\n",
        "sampling_distinct_2_results = distinct_n_corpus_level(sampling_generated_data, 2)\n",
        "\n",
        "greedy_distinct_3_results = distinct_n_corpus_level(greedy_generated_data, 3)\n",
        "#sampling_distinct_3_results = distinct_n_corpus_level(sampling_generated_data, 3)\n",
        "\n",
        "print(\"Greedy distict 1-gram\", greedy_distinct_1_results)\n",
        "print(\"Greedy distict 2-gram\", greedy_distinct_2_results)\n",
        "print(\"Greedy distict 3-gram\", greedy_distinct_3_results)\n",
        "\n",
        "print(\"Sampling distict 1-gram\", sampling_distinct_1_results)\n",
        "print(\"Sampling distict 2-gram\", sampling_distinct_2_results)\n",
        "#print(\"Sampling distict 3-gram\", sampling_distinct_3_results)"
      ],
      "execution_count": 71,
      "outputs": [
        {
          "output_type": "stream",
          "text": [
            "Greedy distict 1-gram 0.1910817796875825\n",
            "Greedy distict 2-gram 0.5949154954804998\n",
            "Greedy distict 3-gram 0.8051814770241112\n",
            "Sampling distict 1-gram 0.16678654703025897\n",
            "Sampling distict 2-gram 0.5732626861450655\n"
          ],
          "name": "stdout"
        }
      ]
    },
    {
      "cell_type": "code",
      "metadata": {
        "colab": {
          "base_uri": "https://localhost:8080/"
        },
        "id": "0eJiHMPxrVAL",
        "outputId": "b1f317d4-cd08-4364-95ed-0ba8ff11930e"
      },
      "source": [
        "# Unique-n\n",
        "\n",
        "import nltk\n",
        "\n",
        "greedy_document = []\n",
        "for sentence in greedy_generated_data:\n",
        "  sentence = sentence.split()\n",
        "  for word in sentence:\n",
        "    greedy_document.append(word)\n",
        "\n",
        "sampling_document = []\n",
        "for sentence in sampling_generated_data:\n",
        "  sentence = sentence.split()\n",
        "  for word in sentence:\n",
        "    sampling_document.append(word)\n",
        "\n",
        "greedy_unigram_finder = nltk.FreqDist(greedy_document)\n",
        "greedy_bigram_finder = nltk.FreqDist(nltk.bigrams(greedy_document))\n",
        "greedy_trigram_finder = nltk.FreqDist(nltk.trigrams(greedy_document))\n",
        "\n",
        "sampling_unigram_finder = nltk.FreqDist(sampling_document)\n",
        "sampling_bigram_finder = nltk.FreqDist(nltk.bigrams(sampling_document))\n",
        "sampling_trigram_finder = nltk.FreqDist(nltk.trigrams(sampling_document))\n",
        "\n",
        "def unique_finder(finder):\n",
        "  counter = 0\n",
        "  for occurence in range(len(finder)):\n",
        "    item = finder.popitem()\n",
        "    if item[1] == 1:\n",
        "      counter += 1\n",
        "  return counter\n",
        "\n",
        "greedy_uni_count = unique_finder(greedy_unigram_finder)\n",
        "greedy_bi_count = unique_finder(greedy_bigram_finder)\n",
        "greedy_tri_count = unique_finder(greedy_trigram_finder)\n",
        "\n",
        "sampling_uni_count = unique_finder(sampling_unigram_finder)\n",
        "sampling_bi_count = unique_finder(sampling_bigram_finder)\n",
        "sampling_tri_count = unique_finder(sampling_trigram_finder)\n",
        "\n",
        "print(\"Greedy unique unigrams\", greedy_uni_count)\n",
        "print(\"Greedy unique bigrams\", greedy_bi_count)\n",
        "print(\"Greedy unique trigrams\", greedy_tri_count)\n",
        "\n",
        "print(\"Sampling unique unigrams\", sampling_uni_count)\n",
        "print(\"Sampling unique bigrams\", sampling_bi_count)\n",
        "print(\"Sampling unique trigrams\", sampling_tri_count)"
      ],
      "execution_count": 190,
      "outputs": [
        {
          "output_type": "stream",
          "text": [
            "Greedy unique unigrams 974\n",
            "Greedy unique bigrams 13096\n",
            "Greedy unique trigrams 28102\n",
            "Sampling unique unigrams 1150\n",
            "Sampling unique bigrams 17349\n",
            "Sampling unique trigrams 34908\n"
          ],
          "name": "stdout"
        }
      ]
    },
    {
      "cell_type": "code",
      "metadata": {
        "colab": {
          "base_uri": "https://localhost:8080/"
        },
        "id": "RW9KTgff24iW",
        "outputId": "47caa115-848b-4069-ae0b-196466c5cd3e"
      },
      "source": [
        "# Entropy-n\n",
        "from scipy import stats\n",
        "\n",
        "greedy_unigram_finder = nltk.FreqDist(greedy_document)\n",
        "greedy_bigram_finder = nltk.FreqDist(nltk.bigrams(greedy_document))\n",
        "greedy_trigram_finder = nltk.FreqDist(nltk.trigrams(greedy_document))\n",
        "\n",
        "sampling_unigram_finder = nltk.FreqDist(sampling_document)\n",
        "sampling_bigram_finder = nltk.FreqDist(nltk.bigrams(sampling_document))\n",
        "sampling_trigram_finder = nltk.FreqDist(nltk.trigrams(sampling_document))\n",
        "\n",
        "greedy_unigram_probabilities = [v for k,v in greedy_unigram_finder.items()]\n",
        "greedy_bigram_probabilities = [v for k,v in greedy_bigram_finder.items()]\n",
        "greedy_trigram_probabilities = [v for k,v in greedy_trigram_finder.items()]\n",
        "\n",
        "sampling_unigram_probabilities = [v for k,v in sampling_unigram_finder.items()]\n",
        "sampling_bigram_probabilities = [v for k,v in sampling_bigram_finder.items()]\n",
        "sampling_trigram_probabilities = [v for k,v in sampling_trigram_finder.items()]\n",
        "\n",
        "greedy_entropy_1 = stats.entropy(greedy_unigram_probabilities)\n",
        "greedy_entropy_2 = stats.entropy(greedy_bigram_probabilities)\n",
        "greedy_entropy_2 = stats.entropy(greedy_trigram_probabilities)\n",
        "\n",
        "sampling_entropy_1 = stats.entropy(sampling_unigram_probabilities)\n",
        "sampling_entropy_2 = stats.entropy(sampling_bigram_probabilities)\n",
        "sampling_entropy_2 = stats.entropy(sampling_trigram_probabilities)\n",
        "\n",
        "print(\"Greedy entropy-1:\", greedy_entropy_1)\n",
        "print(\"Greedy entropy-2:\", greedy_entropy_2)\n",
        "print(\"Greedy entropy-3:\", greedy_entropy_3)\n",
        "\n",
        "print(\"Sampling entropy-1:\", sampling_entropy_1)\n",
        "print(\"Sampling entropy-2:\", sampling_entropy_2)\n",
        "print(\"Sampling entropy-3:\", sampling_entropy_3)"
      ],
      "execution_count": 222,
      "outputs": [
        {
          "output_type": "stream",
          "text": [
            "Greedy entropy-1: 5.817888123094933\n",
            "Greedy entropy-2: 10.239960244159507\n",
            "Greedy entropy-3: 14.77313986316078\n",
            "Sampling entropy-1: 6.009178492742538\n",
            "Sampling entropy-2: 10.460680997248135\n",
            "Sampling entropy-3: 15.091572599054542\n"
          ],
          "name": "stdout"
        }
      ]
    },
    {
      "cell_type": "code",
      "metadata": {
        "id": "eI_MiVXUWEeY"
      },
      "source": [
        "valid_formatted = sampling_generated_data\n",
        "test_formatted = test_sampling_generated_data"
      ],
      "execution_count": 232,
      "outputs": []
    },
    {
      "cell_type": "code",
      "metadata": {
        "id": "9x5YSLfkVXk9"
      },
      "source": [
        "submission_dict = {\n",
        "    \"submission_name\": \"POINTER\",\n",
        "    \"param_count\": 110104890,\n",
        "    \"description\": \"Baseline for the task based on POINTER.\",\n",
        "    \"tasks\": {\n",
        "      \"common_gen_val\": {\"language\": \"en\", \"values\": valid_formatted},\n",
        "      \"common_gen_test\": {\"language\": \"en\", \"values\": test_formatted},\n",
        "    }\n",
        "}"
      ],
      "execution_count": 233,
      "outputs": []
    },
    {
      "cell_type": "code",
      "metadata": {
        "id": "vqMbkwInWV6B"
      },
      "source": [
        "import json\n",
        "with open('gem_submission.json', 'w') as f:\n",
        "  f.write(json.dumps(submission_dict, indent=2))"
      ],
      "execution_count": 234,
      "outputs": []
    }
  ]
}